{
 "cells": [
  {
   "cell_type": "markdown",
   "id": "c0b5b429",
   "metadata": {},
   "source": [
    "# Introduction to nueral network classification with Tensorflow\n",
    "\n",
    "**A classificatoin is where you try to classify something as one thing or another**\n",
    "\n",
    "A few type of classification problems: \n",
    "    \n",
    "* Binary classification\n",
    "* Multiclass classification\n",
    "* Multilabel classification"
   ]
  },
  {
   "cell_type": "markdown",
   "id": "71e6edc1",
   "metadata": {},
   "source": [
    "# Creating data to view and fit the"
   ]
  },
  {
   "cell_type": "code",
   "execution_count": 1,
   "id": "bc546868",
   "metadata": {},
   "outputs": [],
   "source": [
    "from sklearn.datasets import make_circles # it's the toy dataset \n",
    "\n",
    "# make 1000 examples\n",
    "n_samples=1000\n",
    "\n",
    "# Create cirlce\n",
    "x,y = make_circles(n_samples,\n",
    "                  noise=0.03,\n",
    "                  random_state=42)"
   ]
  },
  {
   "cell_type": "code",
   "execution_count": 2,
   "id": "e817a3f3",
   "metadata": {},
   "outputs": [
    {
     "data": {
      "text/plain": [
       "array([[ 0.75424625,  0.23148074],\n",
       "       [-0.75615888,  0.15325888],\n",
       "       [-0.81539193,  0.17328203],\n",
       "       [-0.39373073,  0.69288277],\n",
       "       [ 0.44220765, -0.89672343]])"
      ]
     },
     "execution_count": 2,
     "metadata": {},
     "output_type": "execute_result"
    }
   ],
   "source": [
    "# Create the features\n",
    "x[:5]"
   ]
  },
  {
   "cell_type": "code",
   "execution_count": 3,
   "id": "9fe95306",
   "metadata": {},
   "outputs": [
    {
     "data": {
      "text/plain": [
       "array([1, 1, 1, 1, 0], dtype=int64)"
      ]
     },
     "execution_count": 3,
     "metadata": {},
     "output_type": "execute_result"
    }
   ],
   "source": [
    "# create the labels\n",
    "y[:5]"
   ]
  },
  {
   "cell_type": "markdown",
   "id": "c2b2c204",
   "metadata": {},
   "source": [
    "#### as our data is little hard to understand right now... lets visualize it"
   ]
  },
  {
   "cell_type": "code",
   "execution_count": 4,
   "id": "0e3ff0ea",
   "metadata": {},
   "outputs": [
    {
     "data": {
      "text/html": [
       "<div>\n",
       "<style scoped>\n",
       "    .dataframe tbody tr th:only-of-type {\n",
       "        vertical-align: middle;\n",
       "    }\n",
       "\n",
       "    .dataframe tbody tr th {\n",
       "        vertical-align: top;\n",
       "    }\n",
       "\n",
       "    .dataframe thead th {\n",
       "        text-align: right;\n",
       "    }\n",
       "</style>\n",
       "<table border=\"1\" class=\"dataframe\">\n",
       "  <thead>\n",
       "    <tr style=\"text-align: right;\">\n",
       "      <th></th>\n",
       "      <th>x0</th>\n",
       "      <th>x1</th>\n",
       "      <th>label</th>\n",
       "    </tr>\n",
       "  </thead>\n",
       "  <tbody>\n",
       "    <tr>\n",
       "      <th>0</th>\n",
       "      <td>0.754246</td>\n",
       "      <td>0.231481</td>\n",
       "      <td>1</td>\n",
       "    </tr>\n",
       "    <tr>\n",
       "      <th>1</th>\n",
       "      <td>-0.756159</td>\n",
       "      <td>0.153259</td>\n",
       "      <td>1</td>\n",
       "    </tr>\n",
       "    <tr>\n",
       "      <th>2</th>\n",
       "      <td>-0.815392</td>\n",
       "      <td>0.173282</td>\n",
       "      <td>1</td>\n",
       "    </tr>\n",
       "    <tr>\n",
       "      <th>3</th>\n",
       "      <td>-0.393731</td>\n",
       "      <td>0.692883</td>\n",
       "      <td>1</td>\n",
       "    </tr>\n",
       "    <tr>\n",
       "      <th>4</th>\n",
       "      <td>0.442208</td>\n",
       "      <td>-0.896723</td>\n",
       "      <td>0</td>\n",
       "    </tr>\n",
       "    <tr>\n",
       "      <th>...</th>\n",
       "      <td>...</td>\n",
       "      <td>...</td>\n",
       "      <td>...</td>\n",
       "    </tr>\n",
       "    <tr>\n",
       "      <th>995</th>\n",
       "      <td>0.244054</td>\n",
       "      <td>0.944125</td>\n",
       "      <td>0</td>\n",
       "    </tr>\n",
       "    <tr>\n",
       "      <th>996</th>\n",
       "      <td>-0.978655</td>\n",
       "      <td>-0.272373</td>\n",
       "      <td>0</td>\n",
       "    </tr>\n",
       "    <tr>\n",
       "      <th>997</th>\n",
       "      <td>-0.136900</td>\n",
       "      <td>-0.810012</td>\n",
       "      <td>1</td>\n",
       "    </tr>\n",
       "    <tr>\n",
       "      <th>998</th>\n",
       "      <td>0.670362</td>\n",
       "      <td>-0.767502</td>\n",
       "      <td>0</td>\n",
       "    </tr>\n",
       "    <tr>\n",
       "      <th>999</th>\n",
       "      <td>0.281057</td>\n",
       "      <td>0.963824</td>\n",
       "      <td>0</td>\n",
       "    </tr>\n",
       "  </tbody>\n",
       "</table>\n",
       "<p>1000 rows × 3 columns</p>\n",
       "</div>"
      ],
      "text/plain": [
       "           x0        x1  label\n",
       "0    0.754246  0.231481      1\n",
       "1   -0.756159  0.153259      1\n",
       "2   -0.815392  0.173282      1\n",
       "3   -0.393731  0.692883      1\n",
       "4    0.442208 -0.896723      0\n",
       "..        ...       ...    ...\n",
       "995  0.244054  0.944125      0\n",
       "996 -0.978655 -0.272373      0\n",
       "997 -0.136900 -0.810012      1\n",
       "998  0.670362 -0.767502      0\n",
       "999  0.281057  0.963824      0\n",
       "\n",
       "[1000 rows x 3 columns]"
      ]
     },
     "execution_count": 4,
     "metadata": {},
     "output_type": "execute_result"
    }
   ],
   "source": [
    "import pandas as pd\n",
    "circles = pd.DataFrame({\"x0\":x[:,0],\"x1\":x[:,1],\"label\":y})\n",
    "circles"
   ]
  },
  {
   "cell_type": "markdown",
   "id": "256e7642",
   "metadata": {},
   "source": [
    "### visualize it with plot"
   ]
  },
  {
   "cell_type": "code",
   "execution_count": 5,
   "id": "efcd6c45",
   "metadata": {},
   "outputs": [
    {
     "data": {
      "text/plain": [
       "<matplotlib.collections.PathCollection at 0x20297b62fa0>"
      ]
     },
     "execution_count": 5,
     "metadata": {},
     "output_type": "execute_result"
    },
    {
     "data": {
      "image/png": "[encoded data removed]",
      "text/plain": [
       "<Figure size 432x288 with 1 Axes>"
      ]
     },
     "metadata": {
      "needs_background": "light"
     },
     "output_type": "display_data"
    }
   ],
   "source": [
    "import matplotlib.pyplot as plt\n",
    "import tensorflow as tf\n",
    "plt.scatter(x[:,0],x[:,1],c=y,cmap=plt.cm.RdYlBu) # cmap is color dont think its too complex\n",
    "# also if you have confusion what is x[:,0] then it is this [first_row:last_row,column=0]\n",
    "\n",
    "# here in this model we try to classify whether our next 1000 data will be blue or red"
   ]
  },
  {
   "cell_type": "markdown",
   "id": "2f2401a8",
   "metadata": {},
   "source": [
    "### Input and output shapes"
   ]
  },
  {
   "cell_type": "code",
   "execution_count": 6,
   "id": "fbecd492",
   "metadata": {},
   "outputs": [
    {
     "data": {
      "text/plain": [
       "((1000, 2), (1000,))"
      ]
     },
     "execution_count": 6,
     "metadata": {},
     "output_type": "execute_result"
    }
   ],
   "source": [
    "# check the shapes of our features and labels\n",
    "x.shape , y.shape"
   ]
  },
  {
   "cell_type": "code",
   "execution_count": 7,
   "id": "78ccbaac",
   "metadata": {},
   "outputs": [
    {
     "data": {
      "text/plain": [
       "(array([0.75424625, 0.23148074]), 1)"
      ]
     },
     "execution_count": 7,
     "metadata": {},
     "output_type": "execute_result"
    }
   ],
   "source": [
    "# View tge first example of feature and labels\n",
    "x[0],y[0]"
   ]
  },
  {
   "cell_type": "markdown",
   "id": "08ed7a36",
   "metadata": {},
   "source": [
    "## Steps in modelling"
   ]
  },
  {
   "cell_type": "code",
   "execution_count": 8,
   "id": "3b8c6a8f",
   "metadata": {},
   "outputs": [
    {
     "data": {
      "text/plain": [
       "<keras.callbacks.History at 0x2029e2db850>"
      ]
     },
     "execution_count": 8,
     "metadata": {},
     "output_type": "execute_result"
    }
   ],
   "source": [
    "# Create the model (specified to your problem)\n",
    "model = tf.keras.Sequential([\n",
    "    tf.keras.layers.Dense(1)\n",
    "])\n",
    "\n",
    "model.compile(loss=tf.keras.losses.BinaryCrossentropy(),\n",
    "              optimizer=tf.keras.optimizers.SGD(),\n",
    "              metrics=['accuracy'])\n",
    "\n",
    "# Fit the model\n",
    "model.fit(x,y,epochs=100,verbose=0)"
   ]
  },
  {
   "cell_type": "code",
   "execution_count": 9,
   "id": "0930eac9",
   "metadata": {},
   "outputs": [
    {
     "name": "stdout",
     "output_type": "stream",
     "text": [
      "32/32 [==============================] - 0s 1ms/step - loss: 0.6934 - accuracy: 0.5120\n"
     ]
    },
    {
     "data": {
      "text/plain": [
       "[0.693356990814209, 0.5120000243186951]"
      ]
     },
     "execution_count": 9,
     "metadata": {},
     "output_type": "execute_result"
    }
   ],
   "source": [
    "# Evaluate the model\n",
    "model.evaluate(x,y)"
   ]
  },
  {
   "cell_type": "markdown",
   "id": "3529278b",
   "metadata": {},
   "source": [
    "### Imporoving the model\n",
    "\n",
    "* Add more layer\n",
    "* try different optimizers like adam\n",
    "* try increase the epochs"
   ]
  },
  {
   "cell_type": "markdown",
   "id": "6373e8ca",
   "metadata": {},
   "source": [
    "#### Imporoved model"
   ]
  },
  {
   "cell_type": "code",
   "execution_count": 10,
   "id": "3c05d511",
   "metadata": {},
   "outputs": [
    {
     "data": {
      "text/plain": [
       "<keras.callbacks.History at 0x202b1b6e910>"
      ]
     },
     "execution_count": 10,
     "metadata": {},
     "output_type": "execute_result"
    }
   ],
   "source": [
    "# set the random seed\n",
    "tf.random.set_seed(42)\n",
    "\n",
    "# Create the model\n",
    "model_2 = tf.keras.Sequential([\n",
    "    tf.keras.layers.Dense(100),\n",
    "    tf.keras.layers.Dense(10),\n",
    "    tf.keras.layers.Dense(1)\n",
    "])\n",
    "\n",
    "# compile the model\n",
    "model_2.compile(loss=tf.keras.losses.BinaryCrossentropy(),\n",
    "                optimizer=tf.keras.optimizers.SGD(),\n",
    "                metrics=[\"accuracy\"])\n",
    "# Fit the model\n",
    "model_2.fit(x,y,epochs=100,verbose=0) # fit for 100 passes of the data"
   ]
  },
  {
   "cell_type": "code",
   "execution_count": 11,
   "id": "1bc0eb26",
   "metadata": {},
   "outputs": [
    {
     "name": "stdout",
     "output_type": "stream",
     "text": [
      "32/32 [==============================] - 0s 1ms/step - loss: 0.6989 - accuracy: 0.5000\n"
     ]
    },
    {
     "data": {
      "text/plain": [
       "[0.6989450454711914, 0.5]"
      ]
     },
     "execution_count": 11,
     "metadata": {},
     "output_type": "execute_result"
    }
   ],
   "source": [
    "model_2.evaluate(x,y)"
   ]
  },
  {
   "cell_type": "code",
   "execution_count": 12,
   "id": "a6318954",
   "metadata": {},
   "outputs": [
    {
     "name": "stdout",
     "output_type": "stream",
     "text": [
      "32/32 [==============================] - 0s 615us/step\n"
     ]
    },
    {
     "data": {
      "text/plain": [
       "array([[0.44217896],\n",
       "       [0.4613756 ],\n",
       "       [0.4625526 ],\n",
       "       [0.46633777],\n",
       "       [0.42571577],\n",
       "       [0.46720928],\n",
       "       [0.4631748 ],\n",
       "       [0.440405  ],\n",
       "       [0.4359669 ],\n",
       "       [0.4686557 ],\n",
       "       [0.44701174],\n",
       "       [0.45596975],\n",
       "       [0.46511206],\n",
       "       [0.43208116],\n",
       "       [0.42923158],\n",
       "       [0.43160716],\n",
       "       [0.4547208 ],\n",
       "       [0.43219793],\n",
       "       [0.4575505 ],\n",
       "       [0.44330886],\n",
       "       [0.44793484],\n",
       "       [0.47159585],\n",
       "       [0.4302184 ],\n",
       "       [0.4432381 ],\n",
       "       [0.46904862],\n",
       "       [0.46469438],\n",
       "       [0.46231332],\n",
       "       [0.43412536],\n",
       "       [0.4306047 ],\n",
       "       [0.4306981 ],\n",
       "       [0.4359227 ],\n",
       "       [0.46953216],\n",
       "       [0.46251026],\n",
       "       [0.43473002],\n",
       "       [0.42983735],\n",
       "       [0.471628  ],\n",
       "       [0.4664755 ],\n",
       "       [0.45522898],\n",
       "       [0.43095836],\n",
       "       [0.44983077],\n",
       "       [0.44216862],\n",
       "       [0.46050546],\n",
       "       [0.44550967],\n",
       "       [0.43241113],\n",
       "       [0.4489392 ],\n",
       "       [0.45423815],\n",
       "       [0.42829236],\n",
       "       [0.45945758],\n",
       "       [0.42467555],\n",
       "       [0.44067243],\n",
       "       [0.45296696],\n",
       "       [0.43227878],\n",
       "       [0.45881322],\n",
       "       [0.4528916 ],\n",
       "       [0.4410735 ],\n",
       "       [0.44252813],\n",
       "       [0.46184275],\n",
       "       [0.43733937],\n",
       "       [0.46823397],\n",
       "       [0.44400507],\n",
       "       [0.44797066],\n",
       "       [0.4470921 ],\n",
       "       [0.4463582 ],\n",
       "       [0.4697644 ],\n",
       "       [0.45930815],\n",
       "       [0.46652287],\n",
       "       [0.46519434],\n",
       "       [0.43497083],\n",
       "       [0.45305252],\n",
       "       [0.4464721 ],\n",
       "       [0.46295655],\n",
       "       [0.4328959 ],\n",
       "       [0.4560893 ],\n",
       "       [0.46076518],\n",
       "       [0.4499285 ],\n",
       "       [0.4516791 ],\n",
       "       [0.4644965 ],\n",
       "       [0.44457725],\n",
       "       [0.45832816],\n",
       "       [0.44653097],\n",
       "       [0.46502545],\n",
       "       [0.45146444],\n",
       "       [0.45383894],\n",
       "       [0.45325366],\n",
       "       [0.4429283 ],\n",
       "       [0.44844636],\n",
       "       [0.4364228 ],\n",
       "       [0.46450856],\n",
       "       [0.45918092],\n",
       "       [0.44182274],\n",
       "       [0.4283039 ],\n",
       "       [0.42695045],\n",
       "       [0.44192928],\n",
       "       [0.46868393],\n",
       "       [0.45191842],\n",
       "       [0.42405838],\n",
       "       [0.4566701 ],\n",
       "       [0.45943347],\n",
       "       [0.4518874 ],\n",
       "       [0.44150817],\n",
       "       [0.46306482],\n",
       "       [0.43372568],\n",
       "       [0.43012294],\n",
       "       [0.45938233],\n",
       "       [0.46381983],\n",
       "       [0.46633103],\n",
       "       [0.4492255 ],\n",
       "       [0.43122047],\n",
       "       [0.4701759 ],\n",
       "       [0.4304473 ],\n",
       "       [0.44312483],\n",
       "       [0.44416323],\n",
       "       [0.4360942 ],\n",
       "       [0.4451879 ],\n",
       "       [0.45763788],\n",
       "       [0.42541072],\n",
       "       [0.47106287],\n",
       "       [0.43423975],\n",
       "       [0.4449675 ],\n",
       "       [0.44994608],\n",
       "       [0.43125015],\n",
       "       [0.42483112],\n",
       "       [0.46526787],\n",
       "       [0.46033296],\n",
       "       [0.4658286 ],\n",
       "       [0.45027658],\n",
       "       [0.4541904 ],\n",
       "       [0.4268361 ],\n",
       "       [0.434505  ],\n",
       "       [0.44930905],\n",
       "       [0.4583754 ],\n",
       "       [0.4369406 ],\n",
       "       [0.4570465 ],\n",
       "       [0.4361962 ],\n",
       "       [0.44297725],\n",
       "       [0.45020923],\n",
       "       [0.4653865 ],\n",
       "       [0.46824607],\n",
       "       [0.44104177],\n",
       "       [0.4550493 ],\n",
       "       [0.4458656 ],\n",
       "       [0.46126145],\n",
       "       [0.46409446],\n",
       "       [0.45457503],\n",
       "       [0.431339  ],\n",
       "       [0.42954838],\n",
       "       [0.446247  ],\n",
       "       [0.46274245],\n",
       "       [0.44367862],\n",
       "       [0.44215587],\n",
       "       [0.46490467],\n",
       "       [0.47009876],\n",
       "       [0.43400103],\n",
       "       [0.4258247 ],\n",
       "       [0.43061945],\n",
       "       [0.42806086],\n",
       "       [0.44592264],\n",
       "       [0.4650176 ],\n",
       "       [0.4511875 ],\n",
       "       [0.43152475],\n",
       "       [0.45881858],\n",
       "       [0.45548978],\n",
       "       [0.4643435 ],\n",
       "       [0.46651146],\n",
       "       [0.43508926],\n",
       "       [0.4663052 ],\n",
       "       [0.44928712],\n",
       "       [0.46656334],\n",
       "       [0.44490436],\n",
       "       [0.44614393],\n",
       "       [0.4322264 ],\n",
       "       [0.43080568],\n",
       "       [0.46376505],\n",
       "       [0.435475  ],\n",
       "       [0.43040884],\n",
       "       [0.4321596 ],\n",
       "       [0.45989805],\n",
       "       [0.45923564],\n",
       "       [0.44764256],\n",
       "       [0.46634904],\n",
       "       [0.43193436],\n",
       "       [0.4666481 ],\n",
       "       [0.42937526],\n",
       "       [0.44284138],\n",
       "       [0.43986243],\n",
       "       [0.46871188],\n",
       "       [0.43339372],\n",
       "       [0.4306485 ],\n",
       "       [0.43058503],\n",
       "       [0.4598159 ],\n",
       "       [0.43102443],\n",
       "       [0.44217113],\n",
       "       [0.46623874],\n",
       "       [0.46962345],\n",
       "       [0.46907407],\n",
       "       [0.42733037],\n",
       "       [0.43902272],\n",
       "       [0.46920675],\n",
       "       [0.4609614 ],\n",
       "       [0.4553029 ],\n",
       "       [0.44179082],\n",
       "       [0.44436178],\n",
       "       [0.46612716],\n",
       "       [0.4497831 ],\n",
       "       [0.44097292],\n",
       "       [0.45782542],\n",
       "       [0.47130483],\n",
       "       [0.42943412],\n",
       "       [0.4338251 ],\n",
       "       [0.44327998],\n",
       "       [0.45323378],\n",
       "       [0.469768  ],\n",
       "       [0.4300161 ],\n",
       "       [0.44201827],\n",
       "       [0.4646314 ],\n",
       "       [0.438749  ],\n",
       "       [0.4664525 ],\n",
       "       [0.4618162 ],\n",
       "       [0.43031433],\n",
       "       [0.46407652],\n",
       "       [0.44781297],\n",
       "       [0.4622538 ],\n",
       "       [0.43335763],\n",
       "       [0.4473587 ],\n",
       "       [0.430526  ],\n",
       "       [0.43497345],\n",
       "       [0.44660515],\n",
       "       [0.43442708],\n",
       "       [0.43005824],\n",
       "       [0.44503933],\n",
       "       [0.4372617 ],\n",
       "       [0.43670213],\n",
       "       [0.4314192 ],\n",
       "       [0.45473453],\n",
       "       [0.44339296],\n",
       "       [0.44270068],\n",
       "       [0.4662172 ],\n",
       "       [0.4306035 ],\n",
       "       [0.4714533 ],\n",
       "       [0.44001245],\n",
       "       [0.43559372],\n",
       "       [0.46920115],\n",
       "       [0.44014126],\n",
       "       [0.44893062],\n",
       "       [0.4485023 ],\n",
       "       [0.4645273 ],\n",
       "       [0.42572102],\n",
       "       [0.45538044],\n",
       "       [0.4565756 ],\n",
       "       [0.4523508 ],\n",
       "       [0.45641342],\n",
       "       [0.43541932],\n",
       "       [0.45160347],\n",
       "       [0.4320156 ],\n",
       "       [0.42777315],\n",
       "       [0.44259843],\n",
       "       [0.44088596],\n",
       "       [0.42903915],\n",
       "       [0.4290931 ],\n",
       "       [0.43623725],\n",
       "       [0.4633234 ],\n",
       "       [0.4288337 ],\n",
       "       [0.4597342 ],\n",
       "       [0.45857772],\n",
       "       [0.4337178 ],\n",
       "       [0.43400347],\n",
       "       [0.44946066],\n",
       "       [0.42937148],\n",
       "       [0.46353865],\n",
       "       [0.42848384],\n",
       "       [0.43185773],\n",
       "       [0.4656548 ],\n",
       "       [0.43112212],\n",
       "       [0.4620835 ],\n",
       "       [0.44259676],\n",
       "       [0.4392099 ],\n",
       "       [0.47097528],\n",
       "       [0.46012542],\n",
       "       [0.45621723],\n",
       "       [0.45178115],\n",
       "       [0.4555304 ],\n",
       "       [0.45024025],\n",
       "       [0.4640671 ],\n",
       "       [0.45157245],\n",
       "       [0.46909702],\n",
       "       [0.46496364],\n",
       "       [0.43430328],\n",
       "       [0.42677575],\n",
       "       [0.46600956],\n",
       "       [0.43140158],\n",
       "       [0.43046227],\n",
       "       [0.4495291 ],\n",
       "       [0.43737206],\n",
       "       [0.42796785],\n",
       "       [0.43165314],\n",
       "       [0.4278528 ],\n",
       "       [0.42965347],\n",
       "       [0.42656338],\n",
       "       [0.43670502],\n",
       "       [0.47053865],\n",
       "       [0.4455062 ],\n",
       "       [0.42609495],\n",
       "       [0.43134257],\n",
       "       [0.42596042],\n",
       "       [0.45359954],\n",
       "       [0.43031216],\n",
       "       [0.4373778 ],\n",
       "       [0.45336077],\n",
       "       [0.43004915],\n",
       "       [0.45223397],\n",
       "       [0.45805743],\n",
       "       [0.44296908],\n",
       "       [0.45481178],\n",
       "       [0.46442428],\n",
       "       [0.42721772],\n",
       "       [0.42645863],\n",
       "       [0.46575955],\n",
       "       [0.4344823 ],\n",
       "       [0.46345636],\n",
       "       [0.46817154],\n",
       "       [0.4555697 ],\n",
       "       [0.4691185 ],\n",
       "       [0.44818112],\n",
       "       [0.46321154],\n",
       "       [0.45336196],\n",
       "       [0.43877703],\n",
       "       [0.43600145],\n",
       "       [0.43073192],\n",
       "       [0.46531725],\n",
       "       [0.4671868 ],\n",
       "       [0.46485388],\n",
       "       [0.4441252 ],\n",
       "       [0.46302536],\n",
       "       [0.46186426],\n",
       "       [0.4339493 ],\n",
       "       [0.44430235],\n",
       "       [0.46564165],\n",
       "       [0.44811448],\n",
       "       [0.43242902],\n",
       "       [0.44379508],\n",
       "       [0.42930433],\n",
       "       [0.42573097],\n",
       "       [0.4713047 ],\n",
       "       [0.46618256],\n",
       "       [0.42812544],\n",
       "       [0.4254585 ],\n",
       "       [0.4486189 ],\n",
       "       [0.430997  ],\n",
       "       [0.45967743],\n",
       "       [0.42980102],\n",
       "       [0.4720539 ],\n",
       "       [0.4556185 ],\n",
       "       [0.43206543],\n",
       "       [0.45445585],\n",
       "       [0.45065123],\n",
       "       [0.4683307 ],\n",
       "       [0.44890386],\n",
       "       [0.4245252 ],\n",
       "       [0.4399158 ],\n",
       "       [0.46875393],\n",
       "       [0.42575184],\n",
       "       [0.45542848],\n",
       "       [0.4685995 ],\n",
       "       [0.42679566],\n",
       "       [0.47098336],\n",
       "       [0.44168594],\n",
       "       [0.45467386],\n",
       "       [0.47095048],\n",
       "       [0.42734745],\n",
       "       [0.43575105],\n",
       "       [0.47071248],\n",
       "       [0.4652287 ],\n",
       "       [0.46924883],\n",
       "       [0.47193116],\n",
       "       [0.43608934],\n",
       "       [0.4601378 ],\n",
       "       [0.43036595],\n",
       "       [0.45565996],\n",
       "       [0.43035236],\n",
       "       [0.4456533 ],\n",
       "       [0.4633203 ],\n",
       "       [0.4699796 ],\n",
       "       [0.45134068],\n",
       "       [0.46489024],\n",
       "       [0.46751627],\n",
       "       [0.4303099 ],\n",
       "       [0.4386467 ],\n",
       "       [0.4671768 ],\n",
       "       [0.43461746],\n",
       "       [0.45492625],\n",
       "       [0.47122118],\n",
       "       [0.44539896],\n",
       "       [0.46572375],\n",
       "       [0.46281713],\n",
       "       [0.45605835],\n",
       "       [0.45083308],\n",
       "       [0.42717713],\n",
       "       [0.42611748],\n",
       "       [0.45842358],\n",
       "       [0.4363177 ],\n",
       "       [0.43997324],\n",
       "       [0.42838538],\n",
       "       [0.44542181],\n",
       "       [0.44385383],\n",
       "       [0.4611172 ],\n",
       "       [0.4654112 ],\n",
       "       [0.43030587],\n",
       "       [0.439874  ],\n",
       "       [0.44873086],\n",
       "       [0.43768045],\n",
       "       [0.44115517],\n",
       "       [0.4290695 ],\n",
       "       [0.45275608],\n",
       "       [0.45737916],\n",
       "       [0.4449773 ],\n",
       "       [0.46543133],\n",
       "       [0.46658212],\n",
       "       [0.44157696],\n",
       "       [0.44123113],\n",
       "       [0.426661  ],\n",
       "       [0.43995005],\n",
       "       [0.46451986],\n",
       "       [0.4306373 ],\n",
       "       [0.4531842 ],\n",
       "       [0.42509848],\n",
       "       [0.43168256],\n",
       "       [0.4571658 ],\n",
       "       [0.45062712],\n",
       "       [0.46531373],\n",
       "       [0.45683193],\n",
       "       [0.4530056 ],\n",
       "       [0.4321193 ],\n",
       "       [0.43447068],\n",
       "       [0.4272173 ],\n",
       "       [0.45511797],\n",
       "       [0.43750545],\n",
       "       [0.47160387],\n",
       "       [0.43078646],\n",
       "       [0.43228975],\n",
       "       [0.46107987],\n",
       "       [0.46707043],\n",
       "       [0.45304915],\n",
       "       [0.43248177],\n",
       "       [0.4668455 ],\n",
       "       [0.4468995 ],\n",
       "       [0.45441905],\n",
       "       [0.46337488],\n",
       "       [0.47116417],\n",
       "       [0.46707684],\n",
       "       [0.4664159 ],\n",
       "       [0.4558353 ],\n",
       "       [0.43379834],\n",
       "       [0.42642888],\n",
       "       [0.4710204 ],\n",
       "       [0.46199843],\n",
       "       [0.46488786],\n",
       "       [0.43188107],\n",
       "       [0.46683788],\n",
       "       [0.43037802],\n",
       "       [0.42577612],\n",
       "       [0.4539374 ],\n",
       "       [0.4635794 ],\n",
       "       [0.457573  ],\n",
       "       [0.43217227],\n",
       "       [0.42722407],\n",
       "       [0.46308947],\n",
       "       [0.46452785],\n",
       "       [0.42521337],\n",
       "       [0.44155863],\n",
       "       [0.42701012],\n",
       "       [0.42734942],\n",
       "       [0.45843694],\n",
       "       [0.42914614],\n",
       "       [0.45824674],\n",
       "       [0.43738154],\n",
       "       [0.43478674],\n",
       "       [0.4302269 ],\n",
       "       [0.42984745],\n",
       "       [0.4604595 ],\n",
       "       [0.45820343],\n",
       "       [0.45997205],\n",
       "       [0.4600239 ],\n",
       "       [0.43880898],\n",
       "       [0.42662072],\n",
       "       [0.44442016],\n",
       "       [0.4450169 ],\n",
       "       [0.44592014],\n",
       "       [0.43895203],\n",
       "       [0.47126868],\n",
       "       [0.43324867],\n",
       "       [0.43183848],\n",
       "       [0.45896572],\n",
       "       [0.4579518 ],\n",
       "       [0.46212187],\n",
       "       [0.42620772],\n",
       "       [0.47058472],\n",
       "       [0.42630017],\n",
       "       [0.42635822],\n",
       "       [0.43467584],\n",
       "       [0.4323375 ],\n",
       "       [0.46760848],\n",
       "       [0.47118127],\n",
       "       [0.42628875],\n",
       "       [0.42975676],\n",
       "       [0.44996354],\n",
       "       [0.43148142],\n",
       "       [0.46618235],\n",
       "       [0.42841694],\n",
       "       [0.4322003 ],\n",
       "       [0.4591813 ],\n",
       "       [0.45955947],\n",
       "       [0.4454349 ],\n",
       "       [0.43865988],\n",
       "       [0.438019  ],\n",
       "       [0.44138482],\n",
       "       [0.45675972],\n",
       "       [0.4681532 ],\n",
       "       [0.47298324],\n",
       "       [0.43459308],\n",
       "       [0.4402599 ],\n",
       "       [0.43348774],\n",
       "       [0.4658967 ],\n",
       "       [0.43672398],\n",
       "       [0.43762946],\n",
       "       [0.42622697],\n",
       "       [0.4478342 ],\n",
       "       [0.4415245 ],\n",
       "       [0.47109872],\n",
       "       [0.46228865],\n",
       "       [0.460121  ],\n",
       "       [0.44932488],\n",
       "       [0.45334965],\n",
       "       [0.4630941 ],\n",
       "       [0.45306003],\n",
       "       [0.43788558],\n",
       "       [0.42610085],\n",
       "       [0.47061324],\n",
       "       [0.45491502],\n",
       "       [0.46209002],\n",
       "       [0.426516  ],\n",
       "       [0.47125468],\n",
       "       [0.4564794 ],\n",
       "       [0.46404588],\n",
       "       [0.43262425],\n",
       "       [0.46574277],\n",
       "       [0.4301465 ],\n",
       "       [0.43921387],\n",
       "       [0.44332874],\n",
       "       [0.4570361 ],\n",
       "       [0.46619374],\n",
       "       [0.4653172 ],\n",
       "       [0.42917365],\n",
       "       [0.46642002],\n",
       "       [0.4494291 ],\n",
       "       [0.43575597],\n",
       "       [0.43024793],\n",
       "       [0.43073025],\n",
       "       [0.45728976],\n",
       "       [0.44714504],\n",
       "       [0.4355623 ],\n",
       "       [0.47030562],\n",
       "       [0.43650627],\n",
       "       [0.44148514],\n",
       "       [0.46161917],\n",
       "       [0.45817393],\n",
       "       [0.42491132],\n",
       "       [0.46733132],\n",
       "       [0.44613644],\n",
       "       [0.437923  ],\n",
       "       [0.43150738],\n",
       "       [0.46983498],\n",
       "       [0.46558082],\n",
       "       [0.45201534],\n",
       "       [0.44928408],\n",
       "       [0.43500325],\n",
       "       [0.42997643],\n",
       "       [0.46849155],\n",
       "       [0.42765823],\n",
       "       [0.42708448],\n",
       "       [0.463564  ],\n",
       "       [0.44277734],\n",
       "       [0.44016424],\n",
       "       [0.44521797],\n",
       "       [0.4507983 ],\n",
       "       [0.44755083],\n",
       "       [0.42622498],\n",
       "       [0.44553006],\n",
       "       [0.4616554 ],\n",
       "       [0.44508916],\n",
       "       [0.47098356],\n",
       "       [0.46257514],\n",
       "       [0.44243258],\n",
       "       [0.46702302],\n",
       "       [0.45850116],\n",
       "       [0.43553022],\n",
       "       [0.46978024],\n",
       "       [0.45170876],\n",
       "       [0.45962614],\n",
       "       [0.45297337],\n",
       "       [0.46149564],\n",
       "       [0.437868  ],\n",
       "       [0.46725848],\n",
       "       [0.4419744 ],\n",
       "       [0.46005192],\n",
       "       [0.46574026],\n",
       "       [0.4322973 ],\n",
       "       [0.47126308],\n",
       "       [0.46498907],\n",
       "       [0.46281296],\n",
       "       [0.46028796],\n",
       "       [0.47029486],\n",
       "       [0.4479602 ],\n",
       "       [0.45595437],\n",
       "       [0.46515417],\n",
       "       [0.46427447],\n",
       "       [0.46683717],\n",
       "       [0.43262717],\n",
       "       [0.4405708 ],\n",
       "       [0.4343172 ],\n",
       "       [0.44565958],\n",
       "       [0.43026775],\n",
       "       [0.46944553],\n",
       "       [0.43639383],\n",
       "       [0.47021186],\n",
       "       [0.43851084],\n",
       "       [0.4395185 ],\n",
       "       [0.44663835],\n",
       "       [0.4340893 ],\n",
       "       [0.42994884],\n",
       "       [0.4404611 ],\n",
       "       [0.43140432],\n",
       "       [0.42919576],\n",
       "       [0.45393232],\n",
       "       [0.46384287],\n",
       "       [0.43280423],\n",
       "       [0.4664587 ],\n",
       "       [0.44171545],\n",
       "       [0.43037042],\n",
       "       [0.4251617 ],\n",
       "       [0.43129945],\n",
       "       [0.43104067],\n",
       "       [0.46640497],\n",
       "       [0.44336256],\n",
       "       [0.43178147],\n",
       "       [0.43016768],\n",
       "       [0.42717826],\n",
       "       [0.43263996],\n",
       "       [0.43782458],\n",
       "       [0.4649791 ],\n",
       "       [0.4397231 ],\n",
       "       [0.46916765],\n",
       "       [0.43809986],\n",
       "       [0.4355386 ],\n",
       "       [0.43813616],\n",
       "       [0.43137378],\n",
       "       [0.441461  ],\n",
       "       [0.4554665 ],\n",
       "       [0.43247426],\n",
       "       [0.47113967],\n",
       "       [0.43177378],\n",
       "       [0.46988007],\n",
       "       [0.4494244 ],\n",
       "       [0.43548706],\n",
       "       [0.4583728 ],\n",
       "       [0.4638172 ],\n",
       "       [0.4679791 ],\n",
       "       [0.4660014 ],\n",
       "       [0.46106732],\n",
       "       [0.42674875],\n",
       "       [0.42439255],\n",
       "       [0.45854592],\n",
       "       [0.45578828],\n",
       "       [0.45324877],\n",
       "       [0.46677378],\n",
       "       [0.46606338],\n",
       "       [0.44900376],\n",
       "       [0.4704135 ],\n",
       "       [0.4260887 ],\n",
       "       [0.42910096],\n",
       "       [0.4686699 ],\n",
       "       [0.46557784],\n",
       "       [0.43974963],\n",
       "       [0.45678163],\n",
       "       [0.43652216],\n",
       "       [0.44707084],\n",
       "       [0.4425739 ],\n",
       "       [0.42601845],\n",
       "       [0.4670274 ],\n",
       "       [0.4615652 ],\n",
       "       [0.44743893],\n",
       "       [0.45936406],\n",
       "       [0.45251057],\n",
       "       [0.4634051 ],\n",
       "       [0.46304268],\n",
       "       [0.43194976],\n",
       "       [0.45973033],\n",
       "       [0.46002346],\n",
       "       [0.44956747],\n",
       "       [0.4260634 ],\n",
       "       [0.4700523 ],\n",
       "       [0.4505203 ],\n",
       "       [0.46328223],\n",
       "       [0.43058595],\n",
       "       [0.4473521 ],\n",
       "       [0.4328202 ],\n",
       "       [0.43137407],\n",
       "       [0.47024065],\n",
       "       [0.46867815],\n",
       "       [0.4628666 ],\n",
       "       [0.43017006],\n",
       "       [0.4608361 ],\n",
       "       [0.46537194],\n",
       "       [0.43544298],\n",
       "       [0.42847395],\n",
       "       [0.44158104],\n",
       "       [0.47043887],\n",
       "       [0.4666178 ],\n",
       "       [0.43708298],\n",
       "       [0.4607069 ],\n",
       "       [0.46951967],\n",
       "       [0.43115953],\n",
       "       [0.47009826],\n",
       "       [0.4603302 ],\n",
       "       [0.45476952],\n",
       "       [0.45056313],\n",
       "       [0.4259425 ],\n",
       "       [0.46619198],\n",
       "       [0.47070718],\n",
       "       [0.4698899 ],\n",
       "       [0.4248968 ],\n",
       "       [0.46324667],\n",
       "       [0.4260137 ],\n",
       "       [0.43052799],\n",
       "       [0.45619202],\n",
       "       [0.43182468],\n",
       "       [0.44115135],\n",
       "       [0.4326085 ],\n",
       "       [0.4656565 ],\n",
       "       [0.46477196],\n",
       "       [0.4272442 ],\n",
       "       [0.45204931],\n",
       "       [0.45581868],\n",
       "       [0.46222883],\n",
       "       [0.4309482 ],\n",
       "       [0.46858037],\n",
       "       [0.46415374],\n",
       "       [0.43035161],\n",
       "       [0.45782554],\n",
       "       [0.4480254 ],\n",
       "       [0.4296673 ],\n",
       "       [0.4622206 ],\n",
       "       [0.43288523],\n",
       "       [0.45781705],\n",
       "       [0.42866173],\n",
       "       [0.434025  ],\n",
       "       [0.43765497],\n",
       "       [0.45702195],\n",
       "       [0.44405565],\n",
       "       [0.42676458],\n",
       "       [0.43342325],\n",
       "       [0.46439123],\n",
       "       [0.46597943],\n",
       "       [0.4668334 ],\n",
       "       [0.43487388],\n",
       "       [0.45989642],\n",
       "       [0.46582782],\n",
       "       [0.43063703],\n",
       "       [0.43544707],\n",
       "       [0.43949562],\n",
       "       [0.46596047],\n",
       "       [0.4519351 ],\n",
       "       [0.466469  ],\n",
       "       [0.4424301 ],\n",
       "       [0.4643781 ],\n",
       "       [0.4256308 ],\n",
       "       [0.43060982],\n",
       "       [0.46576196],\n",
       "       [0.43317354],\n",
       "       [0.45861357],\n",
       "       [0.45858762],\n",
       "       [0.46323684],\n",
       "       [0.4635866 ],\n",
       "       [0.45290384],\n",
       "       [0.4288587 ],\n",
       "       [0.42923847],\n",
       "       [0.46726784],\n",
       "       [0.4301576 ],\n",
       "       [0.44625166],\n",
       "       [0.42792487],\n",
       "       [0.43579155],\n",
       "       [0.43866152],\n",
       "       [0.46467602],\n",
       "       [0.43492198],\n",
       "       [0.42917767],\n",
       "       [0.43080467],\n",
       "       [0.4618702 ],\n",
       "       [0.43643928],\n",
       "       [0.44768485],\n",
       "       [0.4644962 ],\n",
       "       [0.43901145],\n",
       "       [0.44906998],\n",
       "       [0.43269974],\n",
       "       [0.455081  ],\n",
       "       [0.44919065],\n",
       "       [0.4568435 ],\n",
       "       [0.46387234],\n",
       "       [0.46620253],\n",
       "       [0.470917  ],\n",
       "       [0.44126236],\n",
       "       [0.44403225],\n",
       "       [0.44504815],\n",
       "       [0.46912044],\n",
       "       [0.4660421 ],\n",
       "       [0.4311493 ],\n",
       "       [0.43637997],\n",
       "       [0.4383638 ],\n",
       "       [0.42967045],\n",
       "       [0.4624066 ],\n",
       "       [0.46023813],\n",
       "       [0.4504631 ],\n",
       "       [0.46439034],\n",
       "       [0.45992836],\n",
       "       [0.4543281 ],\n",
       "       [0.46633452],\n",
       "       [0.4266506 ],\n",
       "       [0.4495811 ],\n",
       "       [0.43158406],\n",
       "       [0.46854633],\n",
       "       [0.4270684 ],\n",
       "       [0.45001334],\n",
       "       [0.4264102 ],\n",
       "       [0.45574373],\n",
       "       [0.43852183],\n",
       "       [0.4675824 ],\n",
       "       [0.4351768 ],\n",
       "       [0.45556602],\n",
       "       [0.46519244],\n",
       "       [0.42911464],\n",
       "       [0.45991656],\n",
       "       [0.4599917 ],\n",
       "       [0.4470688 ],\n",
       "       [0.46380907],\n",
       "       [0.4662797 ],\n",
       "       [0.4627314 ],\n",
       "       [0.4487396 ],\n",
       "       [0.46375236],\n",
       "       [0.45277572],\n",
       "       [0.4252459 ],\n",
       "       [0.4359089 ],\n",
       "       [0.44621554],\n",
       "       [0.4425089 ],\n",
       "       [0.45359796],\n",
       "       [0.44017568],\n",
       "       [0.46935833],\n",
       "       [0.46874928],\n",
       "       [0.44144535],\n",
       "       [0.43349957],\n",
       "       [0.46656585],\n",
       "       [0.43148452],\n",
       "       [0.4530397 ],\n",
       "       [0.4290935 ],\n",
       "       [0.45192948],\n",
       "       [0.4254024 ],\n",
       "       [0.46726772],\n",
       "       [0.42727625],\n",
       "       [0.4572434 ],\n",
       "       [0.4336747 ],\n",
       "       [0.4670319 ],\n",
       "       [0.45178938],\n",
       "       [0.42839137],\n",
       "       [0.4648412 ],\n",
       "       [0.46692786],\n",
       "       [0.4345172 ],\n",
       "       [0.44134474],\n",
       "       [0.43945345],\n",
       "       [0.43280265],\n",
       "       [0.4520921 ],\n",
       "       [0.44530448],\n",
       "       [0.43805906],\n",
       "       [0.47095886],\n",
       "       [0.44562647],\n",
       "       [0.43265328],\n",
       "       [0.42927927],\n",
       "       [0.47068933],\n",
       "       [0.457562  ],\n",
       "       [0.46779472],\n",
       "       [0.4515869 ],\n",
       "       [0.44882703],\n",
       "       [0.43226296],\n",
       "       [0.4388409 ],\n",
       "       [0.45880133],\n",
       "       [0.46416745],\n",
       "       [0.46396205],\n",
       "       [0.4501751 ],\n",
       "       [0.4655402 ],\n",
       "       [0.46195126],\n",
       "       [0.4637229 ],\n",
       "       [0.4281408 ],\n",
       "       [0.42647117],\n",
       "       [0.43638042],\n",
       "       [0.4436509 ],\n",
       "       [0.434529  ],\n",
       "       [0.45735627],\n",
       "       [0.47079468],\n",
       "       [0.46961895],\n",
       "       [0.4492646 ],\n",
       "       [0.4623078 ],\n",
       "       [0.4265103 ],\n",
       "       [0.4663403 ],\n",
       "       [0.42883322],\n",
       "       [0.4434789 ],\n",
       "       [0.45423552],\n",
       "       [0.46321356],\n",
       "       [0.45050398],\n",
       "       [0.42895323],\n",
       "       [0.43433982],\n",
       "       [0.43006822],\n",
       "       [0.4349294 ],\n",
       "       [0.44945502],\n",
       "       [0.45660353],\n",
       "       [0.46974462],\n",
       "       [0.4428809 ],\n",
       "       [0.45415613],\n",
       "       [0.43890262],\n",
       "       [0.42649493],\n",
       "       [0.42563555],\n",
       "       [0.43175918],\n",
       "       [0.4590061 ],\n",
       "       [0.4389676 ],\n",
       "       [0.43094972],\n",
       "       [0.4504748 ],\n",
       "       [0.4364976 ],\n",
       "       [0.4542537 ],\n",
       "       [0.46415377],\n",
       "       [0.4377137 ],\n",
       "       [0.4446061 ],\n",
       "       [0.45787147],\n",
       "       [0.4279614 ],\n",
       "       [0.45615697],\n",
       "       [0.47007996],\n",
       "       [0.43975136],\n",
       "       [0.43568823],\n",
       "       [0.46440417],\n",
       "       [0.44420862],\n",
       "       [0.43125784],\n",
       "       [0.43467778],\n",
       "       [0.43784845],\n",
       "       [0.44234324],\n",
       "       [0.46318662],\n",
       "       [0.45204797],\n",
       "       [0.43439457],\n",
       "       [0.4502999 ],\n",
       "       [0.46629682],\n",
       "       [0.46952203],\n",
       "       [0.45163423],\n",
       "       [0.46531773],\n",
       "       [0.4294419 ],\n",
       "       [0.46572596],\n",
       "       [0.43951476],\n",
       "       [0.44994083],\n",
       "       [0.42908534],\n",
       "       [0.44904593],\n",
       "       [0.43655038],\n",
       "       [0.45891017],\n",
       "       [0.4614605 ],\n",
       "       [0.44030043],\n",
       "       [0.44455504],\n",
       "       [0.42633533],\n",
       "       [0.47184184],\n",
       "       [0.45458534],\n",
       "       [0.43195584],\n",
       "       [0.47042987],\n",
       "       [0.42800713],\n",
       "       [0.44566703],\n",
       "       [0.4262181 ],\n",
       "       [0.43287888],\n",
       "       [0.4366905 ],\n",
       "       [0.45640963],\n",
       "       [0.4468353 ],\n",
       "       [0.4669251 ],\n",
       "       [0.46825746],\n",
       "       [0.467221  ],\n",
       "       [0.43445066],\n",
       "       [0.46140558],\n",
       "       [0.42950234],\n",
       "       [0.45917916],\n",
       "       [0.42690936],\n",
       "       [0.43995625],\n",
       "       [0.46874624],\n",
       "       [0.42982092],\n",
       "       [0.46405706],\n",
       "       [0.46141732],\n",
       "       [0.43885195],\n",
       "       [0.4651612 ],\n",
       "       [0.4549544 ],\n",
       "       [0.4622405 ],\n",
       "       [0.4565959 ],\n",
       "       [0.4352199 ],\n",
       "       [0.4249728 ],\n",
       "       [0.4620969 ]], dtype=float32)"
      ]
     },
     "execution_count": 12,
     "metadata": {},
     "output_type": "execute_result"
    }
   ],
   "source": [
    "model_2.predict(x)"
   ]
  },
  {
   "cell_type": "code",
   "execution_count": 13,
   "id": "37a5e35b",
   "metadata": {},
   "outputs": [
    {
     "data": {
      "text/plain": [
       "<keras.callbacks.History at 0x203bbe69730>"
      ]
     },
     "execution_count": 13,
     "metadata": {},
     "output_type": "execute_result"
    }
   ],
   "source": [
    "# Set random seed\n",
    "tf.random.set_seed(42)\n",
    "\n",
    "# 1. Create the model (this time 3 layers)\n",
    "model_3 = tf.keras.Sequential([\n",
    "  # Before TensorFlow 2.7.0\n",
    "  # tf.keras.layers.Dense(100), # add 100 dense neurons\n",
    "\n",
    "  # With TensorFlow 2.7.0\n",
    "  # tf.keras.layers.Dense(100, input_shape=(None, 1)), # add 100 dense neurons\n",
    "\n",
    "  ## After TensorFlow 2.8.0 ##\n",
    "  tf.keras.layers.Dense(100), # add 100 dense neurons\n",
    "  tf.keras.layers.Dense(10), # add another layer with 10 neurons\n",
    "  tf.keras.layers.Dense(1)\n",
    "])\n",
    "\n",
    "# 2. Compile the model\n",
    "model_3.compile(loss=tf.keras.losses.BinaryCrossentropy(),\n",
    "                optimizer=tf.keras.optimizers.Adam(), # use Adam instead of SGD\n",
    "                metrics=['accuracy'])\n",
    "\n",
    "# 3. Fit the model\n",
    "model_3.fit(x, y, epochs=100, verbose=0) # fit for 100 passes of the data"
   ]
  },
  {
   "cell_type": "code",
   "execution_count": null,
   "id": "cf4b6c90",
   "metadata": {},
   "outputs": [],
   "source": []
  },
  {
   "cell_type": "markdown",
   "id": "875fe53a",
   "metadata": {},
   "source": [
    "### Let's visualize it , to visualize it lets create a function `plot_decision_boundary`\n",
    "\n",
    "* Takes in trained model , features(x) and labels(y)\n",
    "* Create a `meshgrid` of the different x values\n",
    "* Makes predictions across the meshgrid`\n",
    "* Plot the prediction as well as a line b/w zones (where each unique class falls)"
   ]
  },
  {
   "cell_type": "code",
   "execution_count": 14,
   "id": "67008e8e",
   "metadata": {},
   "outputs": [],
   "source": [
    "import numpy as np\n",
    "\n"
   ]
  },
  {
   "cell_type": "code",
   "execution_count": 15,
   "id": "a2ec7e27",
   "metadata": {},
   "outputs": [],
   "source": [
    "import numpy as np\n",
    "\n",
    "def plot_decision_boundary(model, x, y):\n",
    "  \"\"\"\n",
    "  Plots the decision boundary created by a model predicting on X.\n",
    "  This function has been adapted from two phenomenal resources:\n",
    "   1. CS231n - https://cs231n.github.io/neural-networks-case-study/\n",
    "   2. Made with ML basics - https://github.com/GokuMohandas/MadeWithML/blob/main/notebooks/08_Neural_Networks.ipynb\n",
    "  \"\"\"\n",
    "  # Define the axis boundaries of the plot and create a meshgrid\n",
    "  x_min, x_max = x[:, 0].min() - 0.1, x[:, 0].max() + 0.1 # we minus/add with 0.1 to get ourself lil bit some margin\n",
    "    # it sets up small border b/w the min and max values of each samples so data point are not on very edge\n",
    "  y_min, y_max = x[:, 1].min() - 0.1, x[:, 1].max() + 0.1\n",
    "  xx, yy = np.meshgrid(np.linspace(x_min, x_max, 100),     # Generate 100 equal values b/w x_min and x_max\n",
    "                       np.linspace(y_min, y_max, 100))\n",
    "  \n",
    "  # Create X values (we're going to predict on all of these)\n",
    "  x_in = np.c_[xx.ravel(), yy.ravel()] # stack 2D arrays together: https://numpy.org/devdocs/reference/generated/numpy.c_.html\n",
    "  \n",
    "  # Make predictions using the trained model\n",
    "  y_pred = model.predict(x_in)\n",
    "\n",
    "  # Check for multi-class\n",
    "  if len(y_pred[0]) > 1: # checks the final dimension of the model's output shape, if this is > (greater than) 1, it's multi-class \n",
    "    print(\"doing multiclass classification...\")\n",
    "    # We have to reshape our predictions to get them ready for plotting\n",
    "    y_pred = np.argmax(y_pred, axis=1).reshape(xx.shape)\n",
    "  else:\n",
    "    print(\"doing binary classifcation...\")\n",
    "    y_pred = np.round(np.max(y_pred, axis=1)).reshape(xx.shape)\n",
    "  \n",
    "  # Plot decision boundary\n",
    "  plt.contourf(xx, yy, y_pred, cmap=plt.cm.RdYlBu, alpha=0.7)\n",
    "  plt.scatter(x[:, 0], x[:, \n",
    "                         1], c=y, s=40, cmap=plt.cm.RdYlBu)\n",
    "  plt.xlim(xx.min(), xx.max())\n",
    "  plt.ylim(yy.min(), yy.max())"
   ]
  },
  {
   "cell_type": "code",
   "execution_count": 16,
   "id": "bb5a6afa",
   "metadata": {},
   "outputs": [
    {
     "name": "stdout",
     "output_type": "stream",
     "text": [
      "313/313 [==============================] - 0s 654us/step\n",
      "doing binary classifcation...\n"
     ]
    },
    {
     "data": {
      "image/png": "[encoded data removed]",
      "text/plain": [
       "<Figure size 432x288 with 1 Axes>"
      ]
     },
     "metadata": {
      "needs_background": "light"
     },
     "output_type": "display_data"
    }
   ],
   "source": [
    "plot_decision_boundary(model_3,x,y)"
   ]
  },
  {
   "cell_type": "markdown",
   "id": "d959e567",
   "metadata": {},
   "source": [
    "## Let see if our model can be used for a regression problem..."
   ]
  },
  {
   "cell_type": "code",
   "execution_count": 17,
   "id": "c4705928",
   "metadata": {},
   "outputs": [
    {
     "data": {
      "text/plain": [
       "(<tf.Tensor: shape=(200,), dtype=int32, numpy=\n",
       " array([  0,   5,  10,  15,  20,  25,  30,  35,  40,  45,  50,  55,  60,\n",
       "         65,  70,  75,  80,  85,  90,  95, 100, 105, 110, 115, 120, 125,\n",
       "        130, 135, 140, 145, 150, 155, 160, 165, 170, 175, 180, 185, 190,\n",
       "        195, 200, 205, 210, 215, 220, 225, 230, 235, 240, 245, 250, 255,\n",
       "        260, 265, 270, 275, 280, 285, 290, 295, 300, 305, 310, 315, 320,\n",
       "        325, 330, 335, 340, 345, 350, 355, 360, 365, 370, 375, 380, 385,\n",
       "        390, 395, 400, 405, 410, 415, 420, 425, 430, 435, 440, 445, 450,\n",
       "        455, 460, 465, 470, 475, 480, 485, 490, 495, 500, 505, 510, 515,\n",
       "        520, 525, 530, 535, 540, 545, 550, 555, 560, 565, 570, 575, 580,\n",
       "        585, 590, 595, 600, 605, 610, 615, 620, 625, 630, 635, 640, 645,\n",
       "        650, 655, 660, 665, 670, 675, 680, 685, 690, 695, 700, 705, 710,\n",
       "        715, 720, 725, 730, 735, 740, 745, 750, 755, 760, 765, 770, 775,\n",
       "        780, 785, 790, 795, 800, 805, 810, 815, 820, 825, 830, 835, 840,\n",
       "        845, 850, 855, 860, 865, 870, 875, 880, 885, 890, 895, 900, 905,\n",
       "        910, 915, 920, 925, 930, 935, 940, 945, 950, 955, 960, 965, 970,\n",
       "        975, 980, 985, 990, 995])>,\n",
       " <tf.Tensor: shape=(200,), dtype=int32, numpy=\n",
       " array([ 100,  105,  110,  115,  120,  125,  130,  135,  140,  145,  150,\n",
       "         155,  160,  165,  170,  175,  180,  185,  190,  195,  200,  205,\n",
       "         210,  215,  220,  225,  230,  235,  240,  245,  250,  255,  260,\n",
       "         265,  270,  275,  280,  285,  290,  295,  300,  305,  310,  315,\n",
       "         320,  325,  330,  335,  340,  345,  350,  355,  360,  365,  370,\n",
       "         375,  380,  385,  390,  395,  400,  405,  410,  415,  420,  425,\n",
       "         430,  435,  440,  445,  450,  455,  460,  465,  470,  475,  480,\n",
       "         485,  490,  495,  500,  505,  510,  515,  520,  525,  530,  535,\n",
       "         540,  545,  550,  555,  560,  565,  570,  575,  580,  585,  590,\n",
       "         595,  600,  605,  610,  615,  620,  625,  630,  635,  640,  645,\n",
       "         650,  655,  660,  665,  670,  675,  680,  685,  690,  695,  700,\n",
       "         705,  710,  715,  720,  725,  730,  735,  740,  745,  750,  755,\n",
       "         760,  765,  770,  775,  780,  785,  790,  795,  800,  805,  810,\n",
       "         815,  820,  825,  830,  835,  840,  845,  850,  855,  860,  865,\n",
       "         870,  875,  880,  885,  890,  895,  900,  905,  910,  915,  920,\n",
       "         925,  930,  935,  940,  945,  950,  955,  960,  965,  970,  975,\n",
       "         980,  985,  990,  995, 1000, 1005, 1010, 1015, 1020, 1025, 1030,\n",
       "        1035, 1040, 1045, 1050, 1055, 1060, 1065, 1070, 1075, 1080, 1085,\n",
       "        1090, 1095])>)"
      ]
     },
     "execution_count": 17,
     "metadata": {},
     "output_type": "execute_result"
    }
   ],
   "source": [
    "tf.random.set_seed(42)\n",
    "\n",
    "# Create some regression data\n",
    "x_regression = tf.range(0,1000,5) \n",
    "y_regression = tf.range(100,1100,5)  # y= x+100\n",
    "\n",
    "x_regression , y_regression"
   ]
  },
  {
   "cell_type": "code",
   "execution_count": 18,
   "id": "756a6da9",
   "metadata": {},
   "outputs": [],
   "source": [
    "# split into training and testing sets\n",
    "x_reg_train = x_regression[:150]\n",
    "y_reg_train = y_regression[:150]\n",
    "\n",
    "x_reg_test = x_regression[150:]\n",
    "y_reg_test = y_regression[150:]\n"
   ]
  },
  {
   "cell_type": "code",
   "execution_count": 19,
   "id": "29964d46",
   "metadata": {},
   "outputs": [
    {
     "name": "stdout",
     "output_type": "stream",
     "text": [
      "Epoch 1/100\n",
      "5/5 [==============================] - 0s 2ms/step - loss: 248.2148 - mae: 248.2148\n",
      "Epoch 2/100\n",
      "5/5 [==============================] - 0s 1ms/step - loss: 138.8992 - mae: 138.8992\n",
      "Epoch 3/100\n",
      "5/5 [==============================] - 0s 2ms/step - loss: 53.1035 - mae: 53.1035\n",
      "Epoch 4/100\n",
      "5/5 [==============================] - 0s 1ms/step - loss: 73.5183 - mae: 73.5183\n",
      "Epoch 5/100\n",
      "5/5 [==============================] - 0s 2ms/step - loss: 71.2370 - mae: 71.2370\n",
      "Epoch 6/100\n",
      "5/5 [==============================] - 0s 1ms/step - loss: 47.0045 - mae: 47.0045\n",
      "Epoch 7/100\n",
      "5/5 [==============================] - 0s 2ms/step - loss: 45.9374 - mae: 45.9374\n",
      "Epoch 8/100\n",
      "5/5 [==============================] - 0s 1ms/step - loss: 42.3635 - mae: 42.3635\n",
      "Epoch 9/100\n",
      "5/5 [==============================] - 0s 2ms/step - loss: 43.6835 - mae: 43.6835\n",
      "Epoch 10/100\n",
      "5/5 [==============================] - 0s 2ms/step - loss: 42.6201 - mae: 42.6201\n",
      "Epoch 11/100\n",
      "5/5 [==============================] - 0s 2ms/step - loss: 42.4795 - mae: 42.4795\n",
      "Epoch 12/100\n",
      "5/5 [==============================] - 0s 2ms/step - loss: 41.5534 - mae: 41.5534\n",
      "Epoch 13/100\n",
      "5/5 [==============================] - 0s 1ms/step - loss: 42.0975 - mae: 42.0975\n",
      "Epoch 14/100\n",
      "5/5 [==============================] - 0s 2ms/step - loss: 41.8650 - mae: 41.8650\n",
      "Epoch 15/100\n",
      "5/5 [==============================] - 0s 2ms/step - loss: 41.5341 - mae: 41.5341\n",
      "Epoch 16/100\n",
      "5/5 [==============================] - 0s 2ms/step - loss: 41.4026 - mae: 41.4026\n",
      "Epoch 17/100\n",
      "5/5 [==============================] - 0s 2ms/step - loss: 41.6888 - mae: 41.6888\n",
      "Epoch 18/100\n",
      "5/5 [==============================] - 0s 2ms/step - loss: 41.6138 - mae: 41.6138\n",
      "Epoch 19/100\n",
      "5/5 [==============================] - 0s 2ms/step - loss: 41.2795 - mae: 41.2795\n",
      "Epoch 20/100\n",
      "5/5 [==============================] - 0s 1ms/step - loss: 41.1947 - mae: 41.1947\n",
      "Epoch 21/100\n",
      "5/5 [==============================] - 0s 1ms/step - loss: 41.2131 - mae: 41.2131\n",
      "Epoch 22/100\n",
      "5/5 [==============================] - 0s 2ms/step - loss: 41.0892 - mae: 41.0892\n",
      "Epoch 23/100\n",
      "5/5 [==============================] - 0s 2ms/step - loss: 41.2018 - mae: 41.2018\n",
      "Epoch 24/100\n",
      "5/5 [==============================] - 0s 2ms/step - loss: 40.9990 - mae: 40.9990\n",
      "Epoch 25/100\n",
      "5/5 [==============================] - 0s 2ms/step - loss: 41.0131 - mae: 41.0131\n",
      "Epoch 26/100\n",
      "5/5 [==============================] - 0s 2ms/step - loss: 41.0653 - mae: 41.0653\n",
      "Epoch 27/100\n",
      "5/5 [==============================] - 0s 2ms/step - loss: 40.8764 - mae: 40.8764\n",
      "Epoch 28/100\n",
      "5/5 [==============================] - 0s 2ms/step - loss: 41.0546 - mae: 41.0546\n",
      "Epoch 29/100\n",
      "5/5 [==============================] - 0s 2ms/step - loss: 41.0479 - mae: 41.0479\n",
      "Epoch 30/100\n",
      "5/5 [==============================] - 0s 1ms/step - loss: 40.8806 - mae: 40.8806\n",
      "Epoch 31/100\n",
      "5/5 [==============================] - 0s 2ms/step - loss: 41.2698 - mae: 41.2698\n",
      "Epoch 32/100\n",
      "5/5 [==============================] - 0s 2ms/step - loss: 40.9948 - mae: 40.9948\n",
      "Epoch 33/100\n",
      "5/5 [==============================] - 0s 1ms/step - loss: 41.0759 - mae: 41.0759\n",
      "Epoch 34/100\n",
      "5/5 [==============================] - 0s 2ms/step - loss: 41.2473 - mae: 41.2473\n",
      "Epoch 35/100\n",
      "5/5 [==============================] - 0s 2ms/step - loss: 40.6101 - mae: 40.6101\n",
      "Epoch 36/100\n",
      "5/5 [==============================] - 0s 2ms/step - loss: 41.1092 - mae: 41.1092\n",
      "Epoch 37/100\n",
      "5/5 [==============================] - 0s 2ms/step - loss: 40.8193 - mae: 40.8193\n",
      "Epoch 38/100\n",
      "5/5 [==============================] - 0s 1ms/step - loss: 40.2486 - mae: 40.2486\n",
      "Epoch 39/100\n",
      "5/5 [==============================] - 0s 2ms/step - loss: 41.0622 - mae: 41.0622\n",
      "Epoch 40/100\n",
      "5/5 [==============================] - 0s 2ms/step - loss: 40.5311 - mae: 40.5311\n",
      "Epoch 41/100\n",
      "5/5 [==============================] - 0s 1ms/step - loss: 40.5499 - mae: 40.5499\n",
      "Epoch 42/100\n",
      "5/5 [==============================] - 0s 1ms/step - loss: 40.4321 - mae: 40.4321\n",
      "Epoch 43/100\n",
      "5/5 [==============================] - 0s 2ms/step - loss: 40.5367 - mae: 40.5367\n",
      "Epoch 44/100\n",
      "5/5 [==============================] - 0s 2ms/step - loss: 40.2488 - mae: 40.2488\n",
      "Epoch 45/100\n",
      "5/5 [==============================] - 0s 1ms/step - loss: 40.5150 - mae: 40.5150\n",
      "Epoch 46/100\n",
      "5/5 [==============================] - 0s 2ms/step - loss: 40.3703 - mae: 40.3703\n",
      "Epoch 47/100\n",
      "5/5 [==============================] - 0s 2ms/step - loss: 40.4771 - mae: 40.4771\n",
      "Epoch 48/100\n",
      "5/5 [==============================] - 0s 2ms/step - loss: 40.1531 - mae: 40.1531\n",
      "Epoch 49/100\n",
      "5/5 [==============================] - 0s 1ms/step - loss: 40.7291 - mae: 40.7291\n",
      "Epoch 50/100\n",
      "5/5 [==============================] - 0s 2ms/step - loss: 40.1536 - mae: 40.1536\n",
      "Epoch 51/100\n",
      "5/5 [==============================] - 0s 2ms/step - loss: 40.2710 - mae: 40.2710\n",
      "Epoch 52/100\n",
      "5/5 [==============================] - 0s 2ms/step - loss: 40.6574 - mae: 40.6574\n",
      "Epoch 53/100\n",
      "5/5 [==============================] - 0s 2ms/step - loss: 40.6571 - mae: 40.6571\n",
      "Epoch 54/100\n",
      "5/5 [==============================] - 0s 2ms/step - loss: 40.6893 - mae: 40.6893\n",
      "Epoch 55/100\n",
      "5/5 [==============================] - 0s 2ms/step - loss: 41.2775 - mae: 41.2775\n",
      "Epoch 56/100\n",
      "5/5 [==============================] - 0s 1ms/step - loss: 41.8514 - mae: 41.8514\n",
      "Epoch 57/100\n",
      "5/5 [==============================] - 0s 1ms/step - loss: 40.7904 - mae: 40.7904\n",
      "Epoch 58/100\n",
      "5/5 [==============================] - 0s 2ms/step - loss: 40.3131 - mae: 40.3131\n",
      "Epoch 59/100\n",
      "5/5 [==============================] - 0s 1ms/step - loss: 40.7194 - mae: 40.7194\n",
      "Epoch 60/100\n",
      "5/5 [==============================] - 0s 2ms/step - loss: 40.1479 - mae: 40.1479\n",
      "Epoch 61/100\n",
      "5/5 [==============================] - 0s 2ms/step - loss: 40.1119 - mae: 40.1119\n",
      "Epoch 62/100\n",
      "5/5 [==============================] - 0s 1ms/step - loss: 40.7796 - mae: 40.7796\n",
      "Epoch 63/100\n",
      "5/5 [==============================] - 0s 2ms/step - loss: 39.7243 - mae: 39.7243\n",
      "Epoch 64/100\n",
      "5/5 [==============================] - 0s 2ms/step - loss: 40.1467 - mae: 40.1467\n",
      "Epoch 65/100\n",
      "5/5 [==============================] - 0s 1ms/step - loss: 39.6886 - mae: 39.6886\n",
      "Epoch 66/100\n",
      "5/5 [==============================] - 0s 2ms/step - loss: 40.2841 - mae: 40.2841\n",
      "Epoch 67/100\n",
      "5/5 [==============================] - 0s 1ms/step - loss: 39.5541 - mae: 39.5541\n",
      "Epoch 68/100\n",
      "5/5 [==============================] - 0s 2ms/step - loss: 39.7377 - mae: 39.7377\n",
      "Epoch 69/100\n",
      "5/5 [==============================] - 0s 1ms/step - loss: 39.9787 - mae: 39.9787\n",
      "Epoch 70/100\n",
      "5/5 [==============================] - 0s 1ms/step - loss: 40.0014 - mae: 40.0014\n",
      "Epoch 71/100\n",
      "5/5 [==============================] - 0s 1ms/step - loss: 40.0915 - mae: 40.0915\n",
      "Epoch 72/100\n",
      "5/5 [==============================] - 0s 2ms/step - loss: 39.2547 - mae: 39.2547\n",
      "Epoch 73/100\n",
      "5/5 [==============================] - 0s 2ms/step - loss: 39.6826 - mae: 39.6826\n",
      "Epoch 74/100\n",
      "5/5 [==============================] - 0s 1ms/step - loss: 39.5375 - mae: 39.5375\n",
      "Epoch 75/100\n",
      "5/5 [==============================] - 0s 1ms/step - loss: 39.6264 - mae: 39.6264\n",
      "Epoch 76/100\n",
      "5/5 [==============================] - 0s 1ms/step - loss: 39.3110 - mae: 39.3110\n",
      "Epoch 77/100\n",
      "5/5 [==============================] - 0s 1ms/step - loss: 39.1600 - mae: 39.1600\n",
      "Epoch 78/100\n",
      "5/5 [==============================] - 0s 2ms/step - loss: 39.7547 - mae: 39.7547\n",
      "Epoch 79/100\n",
      "5/5 [==============================] - 0s 2ms/step - loss: 39.2543 - mae: 39.2543\n",
      "Epoch 80/100\n",
      "5/5 [==============================] - 0s 2ms/step - loss: 38.6969 - mae: 38.6969\n",
      "Epoch 81/100\n",
      "5/5 [==============================] - 0s 2ms/step - loss: 39.5438 - mae: 39.5438\n",
      "Epoch 82/100\n",
      "5/5 [==============================] - 0s 2ms/step - loss: 39.8689 - mae: 39.8689\n",
      "Epoch 83/100\n",
      "5/5 [==============================] - 0s 2ms/step - loss: 39.1692 - mae: 39.1692\n",
      "Epoch 84/100\n",
      "5/5 [==============================] - 0s 1ms/step - loss: 38.8840 - mae: 38.8840\n",
      "Epoch 85/100\n",
      "5/5 [==============================] - 0s 2ms/step - loss: 38.8887 - mae: 38.8887\n",
      "Epoch 86/100\n",
      "5/5 [==============================] - 0s 2ms/step - loss: 38.6616 - mae: 38.6616\n",
      "Epoch 87/100\n",
      "5/5 [==============================] - 0s 2ms/step - loss: 38.8397 - mae: 38.8397\n",
      "Epoch 88/100\n",
      "5/5 [==============================] - 0s 1ms/step - loss: 38.6604 - mae: 38.6604\n",
      "Epoch 89/100\n",
      "5/5 [==============================] - 0s 2ms/step - loss: 38.7558 - mae: 38.7558\n",
      "Epoch 90/100\n",
      "5/5 [==============================] - 0s 2ms/step - loss: 38.5443 - mae: 38.5443\n",
      "Epoch 91/100\n",
      "5/5 [==============================] - 0s 1ms/step - loss: 38.3247 - mae: 38.3247\n",
      "Epoch 92/100\n",
      "5/5 [==============================] - 0s 2ms/step - loss: 38.8431 - mae: 38.8431\n",
      "Epoch 93/100\n",
      "5/5 [==============================] - 0s 1ms/step - loss: 39.1135 - mae: 39.1135\n",
      "Epoch 94/100\n",
      "5/5 [==============================] - 0s 2ms/step - loss: 38.1463 - mae: 38.1463\n",
      "Epoch 95/100\n",
      "5/5 [==============================] - 0s 2ms/step - loss: 38.3999 - mae: 38.3999\n",
      "Epoch 96/100\n",
      "5/5 [==============================] - 0s 1ms/step - loss: 38.5598 - mae: 38.5598\n",
      "Epoch 97/100\n",
      "5/5 [==============================] - 0s 2ms/step - loss: 38.1038 - mae: 38.1038\n",
      "Epoch 98/100\n",
      "5/5 [==============================] - 0s 2ms/step - loss: 39.0081 - mae: 39.0081\n",
      "Epoch 99/100\n",
      "5/5 [==============================] - 0s 1ms/step - loss: 38.3056 - mae: 38.3056\n",
      "Epoch 100/100\n",
      "5/5 [==============================] - 0s 1ms/step - loss: 37.9977 - mae: 37.9977\n"
     ]
    },
    {
     "data": {
      "text/plain": [
       "<keras.callbacks.History at 0x203cad6ed60>"
      ]
     },
     "execution_count": 19,
     "metadata": {},
     "output_type": "execute_result"
    }
   ],
   "source": [
    "new_model= tf.keras.Sequential([\n",
    "    tf.keras.layers.Dense(100),\n",
    "    tf.keras.layers.Dense(10),\n",
    "    tf.keras.layers.Dense(1)\n",
    "])\n",
    "\n",
    "new_model.compile(\n",
    "    loss=tf.keras.losses.mae,\n",
    "    optimizer=tf.keras.optimizers.Adam(),\n",
    "    metrics=[\"mae\"]\n",
    "    )\n",
    "new_model.fit(tf.expand_dims(x_reg_train,axis=-1),y_reg_train,epochs=100)"
   ]
  },
  {
   "cell_type": "code",
   "execution_count": 20,
   "id": "92be8c77",
   "metadata": {},
   "outputs": [
    {
     "name": "stdout",
     "output_type": "stream",
     "text": [
      "2/2 [==============================] - 0s 989us/step\n"
     ]
    },
    {
     "data": {
      "image/png": "[encoded data removed]",
      "text/plain": [
       "<Figure size 720x504 with 1 Axes>"
      ]
     },
     "metadata": {
      "needs_background": "light"
     },
     "output_type": "display_data"
    }
   ],
   "source": [
    "# Make prediction with our trained model\n",
    "y_reg_preds = new_model.predict(x_reg_test)\n",
    "\n",
    "# Plot the model's prediction against our regression model\n",
    "plt.figure(figsize=(10,7))\n",
    "plt.scatter(x_reg_train,y_reg_train,c=\"blue\",label=\"training data\")\n",
    "plt.scatter(x_reg_test,y_reg_test,c=\"g\",label=\"testing data\")\n",
    "plt.scatter(x_reg_test,y_reg_preds,c=\"r\",label=\"predicting data\")\n",
    "plt.legend();"
   ]
  },
  {
   "cell_type": "markdown",
   "id": "9b77f526",
   "metadata": {},
   "source": [
    "# Common ways to improve deep model:\n",
    "\n",
    "#### Adding layers\n",
    "#### Increase the numbers of hidden unit:\n",
    "#### Change the activation functions\n",
    "#### Change the optimization functions\n",
    "#### Change the learning rate\n",
    "#### Fitting more data\n",
    "#### fitting for longer\n",
    "##### -----------------------------------------------------------------------------------------------------------------------------------------------------------------------------------------"
   ]
  },
  {
   "cell_type": "markdown",
   "id": "ec6a4617",
   "metadata": {},
   "source": [
    "# THE MISSING PIECE : NON-LINEARITY"
   ]
  },
  {
   "cell_type": "code",
   "execution_count": 21,
   "id": "3831585a",
   "metadata": {},
   "outputs": [
    {
     "name": "stdout",
     "output_type": "stream",
     "text": [
      "Epoch 1/100\n",
      "32/32 [==============================] - 0s 2ms/step - loss: 4.2979 - accuracy: 0.4670\n",
      "Epoch 2/100\n",
      "32/32 [==============================] - 0s 1ms/step - loss: 4.2317 - accuracy: 0.4400\n",
      "Epoch 3/100\n",
      "32/32 [==============================] - 0s 2ms/step - loss: 4.1610 - accuracy: 0.4310\n",
      "Epoch 4/100\n",
      "32/32 [==============================] - 0s 2ms/step - loss: 4.1183 - accuracy: 0.4270\n",
      "Epoch 5/100\n",
      "32/32 [==============================] - 0s 2ms/step - loss: 4.0784 - accuracy: 0.4240\n",
      "Epoch 6/100\n",
      "32/32 [==============================] - 0s 2ms/step - loss: 3.9575 - accuracy: 0.4170\n",
      "Epoch 7/100\n",
      "32/32 [==============================] - 0s 2ms/step - loss: 3.8372 - accuracy: 0.4090\n",
      "Epoch 8/100\n",
      "32/32 [==============================] - 0s 1ms/step - loss: 3.7656 - accuracy: 0.4120\n",
      "Epoch 9/100\n",
      "32/32 [==============================] - 0s 1ms/step - loss: 3.7378 - accuracy: 0.4170\n",
      "Epoch 10/100\n",
      "32/32 [==============================] - 0s 1ms/step - loss: 3.6978 - accuracy: 0.4190\n",
      "Epoch 11/100\n",
      "32/32 [==============================] - 0s 2ms/step - loss: 3.6894 - accuracy: 0.4190\n",
      "Epoch 12/100\n",
      "32/32 [==============================] - 0s 2ms/step - loss: 3.6843 - accuracy: 0.4220\n",
      "Epoch 13/100\n",
      "32/32 [==============================] - 0s 2ms/step - loss: 3.6706 - accuracy: 0.4200\n",
      "Epoch 14/100\n",
      "32/32 [==============================] - 0s 1ms/step - loss: 3.6651 - accuracy: 0.4230\n",
      "Epoch 15/100\n",
      "32/32 [==============================] - 0s 2ms/step - loss: 3.6612 - accuracy: 0.4240\n",
      "Epoch 16/100\n",
      "32/32 [==============================] - 0s 2ms/step - loss: 3.6418 - accuracy: 0.4250\n",
      "Epoch 17/100\n",
      "32/32 [==============================] - 0s 2ms/step - loss: 3.5384 - accuracy: 0.4400\n",
      "Epoch 18/100\n",
      "32/32 [==============================] - 0s 2ms/step - loss: 3.5138 - accuracy: 0.4460\n",
      "Epoch 19/100\n",
      "32/32 [==============================] - 0s 2ms/step - loss: 3.4794 - accuracy: 0.4480\n",
      "Epoch 20/100\n",
      "32/32 [==============================] - 0s 2ms/step - loss: 3.4375 - accuracy: 0.4520\n",
      "Epoch 21/100\n",
      "32/32 [==============================] - 0s 2ms/step - loss: 3.3906 - accuracy: 0.4580\n",
      "Epoch 22/100\n",
      "32/32 [==============================] - 0s 2ms/step - loss: 3.3103 - accuracy: 0.4580\n",
      "Epoch 23/100\n",
      "32/32 [==============================] - 0s 2ms/step - loss: 3.2536 - accuracy: 0.4570\n",
      "Epoch 24/100\n",
      "32/32 [==============================] - 0s 2ms/step - loss: 3.2187 - accuracy: 0.4580\n",
      "Epoch 25/100\n",
      "32/32 [==============================] - 0s 2ms/step - loss: 3.1888 - accuracy: 0.4590\n",
      "Epoch 26/100\n",
      "32/32 [==============================] - 0s 2ms/step - loss: 3.1485 - accuracy: 0.4570\n",
      "Epoch 27/100\n",
      "32/32 [==============================] - 0s 2ms/step - loss: 2.9633 - accuracy: 0.4570\n",
      "Epoch 28/100\n",
      "32/32 [==============================] - 0s 2ms/step - loss: 2.7948 - accuracy: 0.4620\n",
      "Epoch 29/100\n",
      "32/32 [==============================] - 0s 2ms/step - loss: 2.7038 - accuracy: 0.4620\n",
      "Epoch 30/100\n",
      "32/32 [==============================] - 0s 2ms/step - loss: 2.6474 - accuracy: 0.4610\n",
      "Epoch 31/100\n",
      "32/32 [==============================] - 0s 2ms/step - loss: 2.6236 - accuracy: 0.4620\n",
      "Epoch 32/100\n",
      "32/32 [==============================] - 0s 2ms/step - loss: 2.6051 - accuracy: 0.4640\n",
      "Epoch 33/100\n",
      "32/32 [==============================] - 0s 2ms/step - loss: 2.5311 - accuracy: 0.4650\n",
      "Epoch 34/100\n",
      "32/32 [==============================] - 0s 1ms/step - loss: 2.3198 - accuracy: 0.4600\n",
      "Epoch 35/100\n",
      "32/32 [==============================] - 0s 1ms/step - loss: 2.1316 - accuracy: 0.4600\n",
      "Epoch 36/100\n",
      "32/32 [==============================] - 0s 1ms/step - loss: 1.4313 - accuracy: 0.4650\n",
      "Epoch 37/100\n",
      "32/32 [==============================] - 0s 1ms/step - loss: 1.0173 - accuracy: 0.4650\n",
      "Epoch 38/100\n",
      "32/32 [==============================] - 0s 2ms/step - loss: 0.9971 - accuracy: 0.4650\n",
      "Epoch 39/100\n",
      "32/32 [==============================] - 0s 2ms/step - loss: 0.9847 - accuracy: 0.4650\n",
      "Epoch 40/100\n",
      "32/32 [==============================] - 0s 2ms/step - loss: 0.9742 - accuracy: 0.4650\n",
      "Epoch 41/100\n",
      "32/32 [==============================] - 0s 2ms/step - loss: 0.9650 - accuracy: 0.4650\n",
      "Epoch 42/100\n",
      "32/32 [==============================] - 0s 2ms/step - loss: 0.9568 - accuracy: 0.4650\n",
      "Epoch 43/100\n",
      "32/32 [==============================] - 0s 2ms/step - loss: 0.9492 - accuracy: 0.4660\n",
      "Epoch 44/100\n",
      "32/32 [==============================] - 0s 1ms/step - loss: 0.9425 - accuracy: 0.4660\n",
      "Epoch 45/100\n",
      "32/32 [==============================] - 0s 2ms/step - loss: 0.9364 - accuracy: 0.4660\n",
      "Epoch 46/100\n",
      "32/32 [==============================] - 0s 2ms/step - loss: 0.9306 - accuracy: 0.4670\n",
      "Epoch 47/100\n",
      "32/32 [==============================] - 0s 2ms/step - loss: 0.9253 - accuracy: 0.4670\n",
      "Epoch 48/100\n",
      "32/32 [==============================] - 0s 2ms/step - loss: 0.9200 - accuracy: 0.4660\n",
      "Epoch 49/100\n",
      "32/32 [==============================] - 0s 2ms/step - loss: 0.9152 - accuracy: 0.4660\n",
      "Epoch 50/100\n",
      "32/32 [==============================] - 0s 2ms/step - loss: 0.9106 - accuracy: 0.4660\n",
      "Epoch 51/100\n",
      "32/32 [==============================] - 0s 1ms/step - loss: 0.9061 - accuracy: 0.4650\n",
      "Epoch 52/100\n",
      "32/32 [==============================] - 0s 1ms/step - loss: 0.9021 - accuracy: 0.4660\n",
      "Epoch 53/100\n",
      "32/32 [==============================] - 0s 2ms/step - loss: 0.8981 - accuracy: 0.4660\n",
      "Epoch 54/100\n",
      "32/32 [==============================] - 0s 2ms/step - loss: 0.8943 - accuracy: 0.4670\n",
      "Epoch 55/100\n",
      "32/32 [==============================] - 0s 2ms/step - loss: 0.8906 - accuracy: 0.4670\n",
      "Epoch 56/100\n",
      "32/32 [==============================] - 0s 2ms/step - loss: 0.8870 - accuracy: 0.4670\n",
      "Epoch 57/100\n",
      "32/32 [==============================] - 0s 2ms/step - loss: 0.8835 - accuracy: 0.4680\n",
      "Epoch 58/100\n",
      "32/32 [==============================] - 0s 2ms/step - loss: 0.8802 - accuracy: 0.4680\n",
      "Epoch 59/100\n",
      "32/32 [==============================] - 0s 2ms/step - loss: 0.8769 - accuracy: 0.4680\n",
      "Epoch 60/100\n",
      "32/32 [==============================] - 0s 1ms/step - loss: 0.8738 - accuracy: 0.4680\n",
      "Epoch 61/100\n",
      "32/32 [==============================] - 0s 1ms/step - loss: 0.8708 - accuracy: 0.4660\n",
      "Epoch 62/100\n",
      "32/32 [==============================] - 0s 2ms/step - loss: 0.8679 - accuracy: 0.4670\n",
      "Epoch 63/100\n",
      "32/32 [==============================] - 0s 2ms/step - loss: 0.8649 - accuracy: 0.4660\n",
      "Epoch 64/100\n",
      "32/32 [==============================] - 0s 2ms/step - loss: 0.8621 - accuracy: 0.4660\n",
      "Epoch 65/100\n",
      "32/32 [==============================] - 0s 2ms/step - loss: 0.8593 - accuracy: 0.4670\n",
      "Epoch 66/100\n",
      "32/32 [==============================] - 0s 1ms/step - loss: 0.8565 - accuracy: 0.4680\n",
      "Epoch 67/100\n",
      "32/32 [==============================] - 0s 1ms/step - loss: 0.8539 - accuracy: 0.4670\n",
      "Epoch 68/100\n",
      "32/32 [==============================] - 0s 1ms/step - loss: 0.8513 - accuracy: 0.4680\n",
      "Epoch 69/100\n",
      "32/32 [==============================] - 0s 1ms/step - loss: 0.8486 - accuracy: 0.4690\n",
      "Epoch 70/100\n",
      "32/32 [==============================] - 0s 1ms/step - loss: 0.8461 - accuracy: 0.4690\n",
      "Epoch 71/100\n",
      "32/32 [==============================] - 0s 1ms/step - loss: 0.8435 - accuracy: 0.4690\n",
      "Epoch 72/100\n",
      "32/32 [==============================] - 0s 1ms/step - loss: 0.8411 - accuracy: 0.4690\n",
      "Epoch 73/100\n",
      "32/32 [==============================] - 0s 1ms/step - loss: 0.8387 - accuracy: 0.4670\n",
      "Epoch 74/100\n",
      "32/32 [==============================] - 0s 1ms/step - loss: 0.8362 - accuracy: 0.4670\n",
      "Epoch 75/100\n",
      "32/32 [==============================] - 0s 1ms/step - loss: 0.8339 - accuracy: 0.4680\n",
      "Epoch 76/100\n",
      "32/32 [==============================] - 0s 1ms/step - loss: 0.8317 - accuracy: 0.4690\n",
      "Epoch 77/100\n",
      "32/32 [==============================] - 0s 1ms/step - loss: 0.8294 - accuracy: 0.4690\n",
      "Epoch 78/100\n",
      "32/32 [==============================] - 0s 1ms/step - loss: 0.8272 - accuracy: 0.4710\n",
      "Epoch 79/100\n",
      "32/32 [==============================] - 0s 1ms/step - loss: 0.8249 - accuracy: 0.4710\n",
      "Epoch 80/100\n",
      "32/32 [==============================] - 0s 1ms/step - loss: 0.8228 - accuracy: 0.4710\n",
      "Epoch 81/100\n",
      "32/32 [==============================] - 0s 1ms/step - loss: 0.8207 - accuracy: 0.4730\n",
      "Epoch 82/100\n",
      "32/32 [==============================] - 0s 1ms/step - loss: 0.8186 - accuracy: 0.4730\n",
      "Epoch 83/100\n",
      "32/32 [==============================] - 0s 2ms/step - loss: 0.8166 - accuracy: 0.4730\n",
      "Epoch 84/100\n",
      "32/32 [==============================] - 0s 999us/step - loss: 0.8146 - accuracy: 0.4730\n",
      "Epoch 85/100\n",
      "32/32 [==============================] - 0s 1ms/step - loss: 0.8126 - accuracy: 0.4720\n",
      "Epoch 86/100\n",
      "32/32 [==============================] - 0s 2ms/step - loss: 0.8107 - accuracy: 0.4720\n",
      "Epoch 87/100\n",
      "32/32 [==============================] - 0s 2ms/step - loss: 0.8088 - accuracy: 0.4720\n",
      "Epoch 88/100\n",
      "32/32 [==============================] - 0s 2ms/step - loss: 0.8069 - accuracy: 0.4730\n",
      "Epoch 89/100\n",
      "32/32 [==============================] - 0s 2ms/step - loss: 0.8051 - accuracy: 0.4740\n",
      "Epoch 90/100\n",
      "32/32 [==============================] - 0s 2ms/step - loss: 0.8032 - accuracy: 0.4740\n",
      "Epoch 91/100\n",
      "32/32 [==============================] - 0s 2ms/step - loss: 0.8014 - accuracy: 0.4740\n",
      "Epoch 92/100\n",
      "32/32 [==============================] - 0s 1ms/step - loss: 0.7996 - accuracy: 0.4740\n",
      "Epoch 93/100\n",
      "32/32 [==============================] - 0s 1ms/step - loss: 0.7978 - accuracy: 0.4740\n",
      "Epoch 94/100\n",
      "32/32 [==============================] - 0s 2ms/step - loss: 0.7962 - accuracy: 0.4740\n",
      "Epoch 95/100\n",
      "32/32 [==============================] - 0s 2ms/step - loss: 0.7944 - accuracy: 0.4740\n",
      "Epoch 96/100\n",
      "32/32 [==============================] - 0s 2ms/step - loss: 0.7927 - accuracy: 0.4740\n",
      "Epoch 97/100\n",
      "32/32 [==============================] - 0s 2ms/step - loss: 0.7911 - accuracy: 0.4740\n",
      "Epoch 98/100\n",
      "32/32 [==============================] - 0s 2ms/step - loss: 0.7895 - accuracy: 0.4740\n",
      "Epoch 99/100\n",
      "32/32 [==============================] - 0s 2ms/step - loss: 0.7878 - accuracy: 0.4750\n",
      "Epoch 100/100\n",
      "32/32 [==============================] - 0s 2ms/step - loss: 0.7861 - accuracy: 0.4750\n"
     ]
    },
    {
     "data": {
      "text/plain": [
       "<keras.callbacks.History at 0x203ce7d5d60>"
      ]
     },
     "execution_count": 21,
     "metadata": {},
     "output_type": "execute_result"
    }
   ],
   "source": [
    "# Set the random seed\n",
    "tf.random.set_seed(42)\n",
    "\n",
    "# 1. Create the model\n",
    "model_4= tf.keras.Sequential([\n",
    "    tf.keras.layers.Dense(1,activation=tf.keras.activations.linear) # here setting the activation function linear\n",
    "    \n",
    "])\n",
    "\n",
    "# 2. Compile the model\n",
    "model_4.compile(loss=tf.keras.losses.BinaryCrossentropy(),\n",
    "                optimizer=tf.keras.optimizers.Adam(learning_rate=0.001), # note: \"lr\" used to be what was used, now \"learning_rate\" is favoured\n",
    "                metrics=[\"accuracy\"])\n",
    "# 3. Fit the model\n",
    "# history=model_4.fit(tf.expand_dims(x,axis=-1),y,epochs=100) # use tf.expand_dims only when it show error while fitting the model/\n",
    "model_4.fit(x,y,epochs=100)"
   ]
  },
  {
   "cell_type": "code",
   "execution_count": 22,
   "id": "27d18c81",
   "metadata": {},
   "outputs": [
    {
     "data": {
      "image/png": "[encoded data removed]",
      "text/plain": [
       "<Figure size 432x288 with 1 Axes>"
      ]
     },
     "metadata": {
      "needs_background": "light"
     },
     "output_type": "display_data"
    }
   ],
   "source": [
    "# check out our data\n",
    "plt.scatter(x[:, 0], x[:, 1], c=y, cmap=plt.cm.RdYlBu);\n"
   ]
  },
  {
   "cell_type": "code",
   "execution_count": 23,
   "id": "6b4e5667",
   "metadata": {},
   "outputs": [
    {
     "name": "stdout",
     "output_type": "stream",
     "text": [
      "313/313 [==============================] - 0s 575us/step\n",
      "doing binary classifcation...\n"
     ]
    },
    {
     "data": {
      "image/png": "[encoded data removed]",
      "text/plain": [
       "<Figure size 432x288 with 1 Axes>"
      ]
     },
     "metadata": {
      "needs_background": "light"
     },
     "output_type": "display_data"
    }
   ],
   "source": [
    "# Check the decision boundary for our latest model\n",
    "plot_decision_boundary(model=model_4,x=x,y=y) \n"
   ]
  },
  {
   "cell_type": "markdown",
   "id": "fc73583d",
   "metadata": {},
   "source": [
    "Well, it looks like we're getting a straight (linear) line prediction again.\n",
    "\n",
    "But our data is non-linear (not a straight line)...\n",
    "\n",
    "What we're going to have to do is add some non-linearity to our model.\n",
    "\n",
    "To do so, we'll use the activation parameter in on of our layers."
   ]
  },
  {
   "cell_type": "markdown",
   "id": "7aeaa9a7",
   "metadata": {},
   "source": [
    "### lets build our nueral network with a non-linear activation function"
   ]
  },
  {
   "cell_type": "code",
   "execution_count": 24,
   "id": "f3a8a990",
   "metadata": {},
   "outputs": [],
   "source": [
    "# set the random seed\n",
    "tf.random.set_seed(42)\n",
    "\n",
    "# 1. Create the model\n",
    "model_5 = tf.keras.Sequential([\n",
    "    tf.keras.layers.Dense(1,activation=tf.keras.activations.relu),\n",
    "    tf.keras.layers.Dense(1)\n",
    "])\n",
    "\n",
    "# 2. Compile the model\n",
    "model_5.compile(loss=tf.keras.losses.binary_crossentropy,\n",
    "               optimizer=tf.keras.optimizers.Adam(),\n",
    "                metrics=[\"accuracy\"])\n",
    "\n",
    "# 3. Fit the model\n",
    "history = model_5.fit(x,y,epochs=100,verbose=0)"
   ]
  },
  {
   "cell_type": "code",
   "execution_count": 25,
   "id": "eb1f8feb",
   "metadata": {},
   "outputs": [
    {
     "name": "stdout",
     "output_type": "stream",
     "text": [
      "32/32 [==============================] - 0s 2ms/step - loss: 0.6932 - accuracy: 0.5000\n"
     ]
    },
    {
     "data": {
      "text/plain": [
       "[0.6931846141815186, 0.5]"
      ]
     },
     "execution_count": 25,
     "metadata": {},
     "output_type": "execute_result"
    }
   ],
   "source": [
    "model_5.evaluate(x,y)"
   ]
  },
  {
   "cell_type": "code",
   "execution_count": 26,
   "id": "0d04156f",
   "metadata": {},
   "outputs": [
    {
     "name": "stdout",
     "output_type": "stream",
     "text": [
      "313/313 [==============================] - 0s 716us/step\n",
      "doing binary classifcation...\n"
     ]
    },
    {
     "data": {
      "image/png": "[encoded data removed]",
      "text/plain": [
       "<Figure size 432x288 with 1 Axes>"
      ]
     },
     "metadata": {
      "needs_background": "light"
     },
     "output_type": "display_data"
    }
   ],
   "source": [
    "plot_decision_boundary(model_5,x,y)"
   ]
  },
  {
   "cell_type": "markdown",
   "id": "77671a3c",
   "metadata": {},
   "source": [
    "Lets make more better model\n",
    "time to replicate multi-layer nueral network from tensorflow\n",
    "\n"
   ]
  },
  {
   "cell_type": "code",
   "execution_count": 27,
   "id": "1b28e3cf",
   "metadata": {},
   "outputs": [
    {
     "name": "stdout",
     "output_type": "stream",
     "text": [
      "Epoch 1/100\n"
     ]
    },
    {
     "name": "stderr",
     "output_type": "stream",
     "text": [
      "C:\\Users\\Amit\\Desktop\\sample\\anaconda3\\lib\\site-packages\\keras\\optimizers\\optimizer_v2\\adam.py:110: UserWarning: The `lr` argument is deprecated, use `learning_rate` instead.\n",
      "  super(Adam, self).__init__(name, **kwargs)\n"
     ]
    },
    {
     "name": "stdout",
     "output_type": "stream",
     "text": [
      "32/32 [==============================] - 0s 2ms/step - loss: 3.2090 - accuracy: 0.0010\n",
      "Epoch 2/100\n",
      "32/32 [==============================] - 0s 2ms/step - loss: 2.6774 - accuracy: 0.0050\n",
      "Epoch 3/100\n",
      "32/32 [==============================] - 0s 2ms/step - loss: 2.5260 - accuracy: 0.0100\n",
      "Epoch 4/100\n",
      "32/32 [==============================] - 0s 2ms/step - loss: 2.4545 - accuracy: 0.0220\n",
      "Epoch 5/100\n",
      "32/32 [==============================] - 0s 2ms/step - loss: 2.3271 - accuracy: 0.0420\n",
      "Epoch 6/100\n",
      "32/32 [==============================] - 0s 1ms/step - loss: 1.9320 - accuracy: 0.0790\n",
      "Epoch 7/100\n",
      "32/32 [==============================] - 0s 2ms/step - loss: 1.6531 - accuracy: 0.1220\n",
      "Epoch 8/100\n",
      "32/32 [==============================] - 0s 1ms/step - loss: 1.5983 - accuracy: 0.1320\n",
      "Epoch 9/100\n",
      "32/32 [==============================] - 0s 2ms/step - loss: 1.5333 - accuracy: 0.1440\n",
      "Epoch 10/100\n",
      "32/32 [==============================] - 0s 2ms/step - loss: 1.4114 - accuracy: 0.1490\n",
      "Epoch 11/100\n",
      "32/32 [==============================] - 0s 1ms/step - loss: 1.1692 - accuracy: 0.1470\n",
      "Epoch 12/100\n",
      "32/32 [==============================] - 0s 2ms/step - loss: 0.9168 - accuracy: 0.1200\n",
      "Epoch 13/100\n",
      "32/32 [==============================] - 0s 2ms/step - loss: 0.8939 - accuracy: 0.1270\n",
      "Epoch 14/100\n",
      "32/32 [==============================] - 0s 2ms/step - loss: 0.8786 - accuracy: 0.1360\n",
      "Epoch 15/100\n",
      "32/32 [==============================] - 0s 1ms/step - loss: 0.8655 - accuracy: 0.1490\n",
      "Epoch 16/100\n",
      "32/32 [==============================] - 0s 2ms/step - loss: 0.8540 - accuracy: 0.1640\n",
      "Epoch 17/100\n",
      "32/32 [==============================] - 0s 1ms/step - loss: 0.8435 - accuracy: 0.1870\n",
      "Epoch 18/100\n",
      "32/32 [==============================] - 0s 2ms/step - loss: 0.8338 - accuracy: 0.2040\n",
      "Epoch 19/100\n",
      "32/32 [==============================] - 0s 1ms/step - loss: 0.8250 - accuracy: 0.2110\n",
      "Epoch 20/100\n",
      "32/32 [==============================] - 0s 2ms/step - loss: 0.8165 - accuracy: 0.2180\n",
      "Epoch 21/100\n",
      "32/32 [==============================] - 0s 1ms/step - loss: 0.8087 - accuracy: 0.2220\n",
      "Epoch 22/100\n",
      "32/32 [==============================] - 0s 2ms/step - loss: 0.8009 - accuracy: 0.2220\n",
      "Epoch 23/100\n",
      "32/32 [==============================] - 0s 1ms/step - loss: 0.7938 - accuracy: 0.2250\n",
      "Epoch 24/100\n",
      "32/32 [==============================] - 0s 1ms/step - loss: 0.7872 - accuracy: 0.2310\n",
      "Epoch 25/100\n",
      "32/32 [==============================] - 0s 978us/step - loss: 0.7809 - accuracy: 0.2340\n",
      "Epoch 26/100\n",
      "32/32 [==============================] - 0s 1ms/step - loss: 0.7746 - accuracy: 0.2340\n",
      "Epoch 27/100\n",
      "32/32 [==============================] - 0s 2ms/step - loss: 0.7686 - accuracy: 0.2360\n",
      "Epoch 28/100\n",
      "32/32 [==============================] - 0s 2ms/step - loss: 0.7624 - accuracy: 0.2410\n",
      "Epoch 29/100\n",
      "32/32 [==============================] - 0s 2ms/step - loss: 0.7569 - accuracy: 0.2410\n",
      "Epoch 30/100\n",
      "32/32 [==============================] - 0s 2ms/step - loss: 0.7512 - accuracy: 0.2470\n",
      "Epoch 31/100\n",
      "32/32 [==============================] - 0s 2ms/step - loss: 0.7453 - accuracy: 0.2460\n",
      "Epoch 32/100\n",
      "32/32 [==============================] - 0s 2ms/step - loss: 0.7385 - accuracy: 0.2390\n",
      "Epoch 33/100\n",
      "32/32 [==============================] - 0s 1ms/step - loss: 0.7305 - accuracy: 0.2360\n",
      "Epoch 34/100\n",
      "32/32 [==============================] - 0s 2ms/step - loss: 0.7241 - accuracy: 0.2250\n",
      "Epoch 35/100\n",
      "32/32 [==============================] - 0s 2ms/step - loss: 0.7193 - accuracy: 0.2180\n",
      "Epoch 36/100\n",
      "32/32 [==============================] - 0s 2ms/step - loss: 0.7157 - accuracy: 0.2230\n",
      "Epoch 37/100\n",
      "32/32 [==============================] - 0s 2ms/step - loss: 0.7129 - accuracy: 0.2260\n",
      "Epoch 38/100\n",
      "32/32 [==============================] - 0s 2ms/step - loss: 0.7104 - accuracy: 0.2270\n",
      "Epoch 39/100\n",
      "32/32 [==============================] - 0s 2ms/step - loss: 0.7078 - accuracy: 0.2360\n",
      "Epoch 40/100\n",
      "32/32 [==============================] - 0s 2ms/step - loss: 0.7057 - accuracy: 0.2440\n",
      "Epoch 41/100\n",
      "32/32 [==============================] - 0s 2ms/step - loss: 0.7037 - accuracy: 0.2470\n",
      "Epoch 42/100\n",
      "32/32 [==============================] - 0s 1ms/step - loss: 0.7016 - accuracy: 0.2570\n",
      "Epoch 43/100\n",
      "32/32 [==============================] - 0s 2ms/step - loss: 0.6997 - accuracy: 0.2490\n",
      "Epoch 44/100\n",
      "32/32 [==============================] - 0s 2ms/step - loss: 0.6983 - accuracy: 0.2520\n",
      "Epoch 45/100\n",
      "32/32 [==============================] - 0s 2ms/step - loss: 0.6963 - accuracy: 0.2560\n",
      "Epoch 46/100\n",
      "32/32 [==============================] - 0s 2ms/step - loss: 0.6948 - accuracy: 0.2560\n",
      "Epoch 47/100\n",
      "32/32 [==============================] - 0s 1ms/step - loss: 0.6937 - accuracy: 0.2520\n",
      "Epoch 48/100\n",
      "32/32 [==============================] - 0s 2ms/step - loss: 0.6922 - accuracy: 0.2550\n",
      "Epoch 49/100\n",
      "32/32 [==============================] - 0s 2ms/step - loss: 0.6909 - accuracy: 0.2600\n",
      "Epoch 50/100\n",
      "32/32 [==============================] - 0s 2ms/step - loss: 0.6897 - accuracy: 0.2610\n",
      "Epoch 51/100\n",
      "32/32 [==============================] - 0s 2ms/step - loss: 0.6886 - accuracy: 0.2580\n",
      "Epoch 52/100\n",
      "32/32 [==============================] - 0s 2ms/step - loss: 0.6877 - accuracy: 0.2520\n",
      "Epoch 53/100\n",
      "32/32 [==============================] - 0s 2ms/step - loss: 0.6869 - accuracy: 0.2540\n",
      "Epoch 54/100\n",
      "32/32 [==============================] - 0s 2ms/step - loss: 0.6857 - accuracy: 0.2500\n",
      "Epoch 55/100\n",
      "32/32 [==============================] - 0s 2ms/step - loss: 0.6850 - accuracy: 0.2520\n",
      "Epoch 56/100\n",
      "32/32 [==============================] - 0s 2ms/step - loss: 0.6842 - accuracy: 0.2640\n",
      "Epoch 57/100\n",
      "32/32 [==============================] - 0s 2ms/step - loss: 0.6834 - accuracy: 0.2940\n",
      "Epoch 58/100\n",
      "32/32 [==============================] - 0s 2ms/step - loss: 0.6828 - accuracy: 0.2990\n",
      "Epoch 59/100\n",
      "32/32 [==============================] - 0s 2ms/step - loss: 0.6823 - accuracy: 0.2860\n",
      "Epoch 60/100\n",
      "32/32 [==============================] - 0s 1ms/step - loss: 0.6813 - accuracy: 0.2560\n",
      "Epoch 61/100\n",
      "32/32 [==============================] - 0s 2ms/step - loss: 0.6808 - accuracy: 0.2780\n",
      "Epoch 62/100\n",
      "32/32 [==============================] - 0s 2ms/step - loss: 0.6802 - accuracy: 0.2730\n",
      "Epoch 63/100\n",
      "32/32 [==============================] - 0s 2ms/step - loss: 0.6795 - accuracy: 0.2680\n",
      "Epoch 64/100\n",
      "32/32 [==============================] - 0s 2ms/step - loss: 0.6791 - accuracy: 0.2790\n",
      "Epoch 65/100\n",
      "32/32 [==============================] - 0s 2ms/step - loss: 0.6787 - accuracy: 0.2890\n",
      "Epoch 66/100\n",
      "32/32 [==============================] - 0s 2ms/step - loss: 0.6782 - accuracy: 0.2940\n",
      "Epoch 67/100\n",
      "32/32 [==============================] - 0s 2ms/step - loss: 0.6777 - accuracy: 0.3010\n",
      "Epoch 68/100\n",
      "32/32 [==============================] - 0s 2ms/step - loss: 0.6772 - accuracy: 0.2960\n",
      "Epoch 69/100\n",
      "32/32 [==============================] - 0s 2ms/step - loss: 0.6768 - accuracy: 0.3040\n",
      "Epoch 70/100\n",
      "32/32 [==============================] - 0s 2ms/step - loss: 0.6764 - accuracy: 0.3070\n",
      "Epoch 71/100\n",
      "32/32 [==============================] - 0s 2ms/step - loss: 0.6760 - accuracy: 0.3120\n",
      "Epoch 72/100\n",
      "32/32 [==============================] - 0s 2ms/step - loss: 0.6756 - accuracy: 0.3140\n",
      "Epoch 73/100\n",
      "32/32 [==============================] - 0s 2ms/step - loss: 0.6753 - accuracy: 0.3130\n",
      "Epoch 74/100\n",
      "32/32 [==============================] - 0s 2ms/step - loss: 0.6748 - accuracy: 0.3200\n",
      "Epoch 75/100\n",
      "32/32 [==============================] - 0s 1ms/step - loss: 0.6747 - accuracy: 0.3210\n",
      "Epoch 76/100\n",
      "32/32 [==============================] - 0s 2ms/step - loss: 0.6742 - accuracy: 0.3240\n",
      "Epoch 77/100\n",
      "32/32 [==============================] - 0s 1ms/step - loss: 0.6738 - accuracy: 0.3280\n",
      "Epoch 78/100\n",
      "32/32 [==============================] - 0s 1ms/step - loss: 0.6735 - accuracy: 0.3290\n",
      "Epoch 79/100\n",
      "32/32 [==============================] - 0s 2ms/step - loss: 0.6732 - accuracy: 0.3290\n",
      "Epoch 80/100\n",
      "32/32 [==============================] - 0s 2ms/step - loss: 0.6727 - accuracy: 0.3320\n",
      "Epoch 81/100\n",
      "32/32 [==============================] - 0s 1ms/step - loss: 0.6727 - accuracy: 0.3330\n",
      "Epoch 82/100\n",
      "32/32 [==============================] - 0s 1ms/step - loss: 0.6723 - accuracy: 0.3470\n",
      "Epoch 83/100\n",
      "32/32 [==============================] - 0s 2ms/step - loss: 0.6719 - accuracy: 0.3500\n",
      "Epoch 84/100\n",
      "32/32 [==============================] - 0s 2ms/step - loss: 0.6711 - accuracy: 0.3480\n",
      "Epoch 85/100\n",
      "32/32 [==============================] - 0s 2ms/step - loss: 0.6710 - accuracy: 0.3470\n",
      "Epoch 86/100\n",
      "32/32 [==============================] - 0s 2ms/step - loss: 0.6710 - accuracy: 0.3480\n",
      "Epoch 87/100\n",
      "32/32 [==============================] - 0s 2ms/step - loss: 0.6702 - accuracy: 0.3530\n",
      "Epoch 88/100\n",
      "32/32 [==============================] - 0s 2ms/step - loss: 0.6698 - accuracy: 0.3510\n",
      "Epoch 89/100\n",
      "32/32 [==============================] - 0s 2ms/step - loss: 0.6696 - accuracy: 0.3470\n",
      "Epoch 90/100\n",
      "32/32 [==============================] - 0s 2ms/step - loss: 0.6695 - accuracy: 0.3590\n",
      "Epoch 91/100\n",
      "32/32 [==============================] - 0s 2ms/step - loss: 0.6686 - accuracy: 0.3510\n",
      "Epoch 92/100\n",
      "32/32 [==============================] - 0s 2ms/step - loss: 0.6685 - accuracy: 0.3540\n",
      "Epoch 93/100\n",
      "32/32 [==============================] - 0s 2ms/step - loss: 0.6685 - accuracy: 0.3550\n",
      "Epoch 94/100\n",
      "32/32 [==============================] - 0s 2ms/step - loss: 0.6677 - accuracy: 0.3560\n",
      "Epoch 95/100\n",
      "32/32 [==============================] - 0s 2ms/step - loss: 0.6672 - accuracy: 0.3500\n",
      "Epoch 96/100\n",
      "32/32 [==============================] - 0s 2ms/step - loss: 0.6669 - accuracy: 0.3620\n",
      "Epoch 97/100\n",
      "32/32 [==============================] - 0s 2ms/step - loss: 0.6664 - accuracy: 0.3600\n",
      "Epoch 98/100\n",
      "32/32 [==============================] - 0s 2ms/step - loss: 0.6659 - accuracy: 0.3650\n",
      "Epoch 99/100\n",
      "32/32 [==============================] - 0s 2ms/step - loss: 0.6658 - accuracy: 0.3610\n",
      "Epoch 100/100\n",
      "32/32 [==============================] - 0s 1ms/step - loss: 0.6656 - accuracy: 0.3770\n"
     ]
    },
    {
     "data": {
      "text/plain": [
       "<keras.callbacks.History at 0x203f0655fa0>"
      ]
     },
     "execution_count": 27,
     "metadata": {},
     "output_type": "execute_result"
    }
   ],
   "source": [
    "# set the random seed\n",
    "tf.random.set_seed(42)\n",
    "\n",
    "# 1. Make the model\n",
    "model_6=tf.keras.Sequential([\n",
    "    tf.keras.layers.Dense(4,activation=\"relu\"),\n",
    "    tf.keras.layers.Dense(4,activation=\"relu\")\n",
    "])\n",
    "\n",
    "# 2. Compile the model\n",
    "model_6.compile(loss=\"binary_crossentropy\",\n",
    "                optimizer=tf.keras.optimizers.Adam(lr=0.001),\n",
    "                metrics=[\"accuracy\"])\n",
    "\n",
    "# 3. Fit the model\n",
    "model_6.fit(x,y,epochs=100)"
   ]
  },
  {
   "cell_type": "code",
   "execution_count": 28,
   "id": "25781adc",
   "metadata": {},
   "outputs": [
    {
     "name": "stdout",
     "output_type": "stream",
     "text": [
      "32/32 [==============================] - 0s 1ms/step - loss: 0.6934 - accuracy: 0.5120\n",
      "313/313 [==============================] - 0s 547us/step\n",
      "doing multiclass classification...\n"
     ]
    },
    {
     "data": {
      "image/png": "[encoded data removed]",
      "text/plain": [
       "<Figure size 432x288 with 1 Axes>"
      ]
     },
     "metadata": {
      "needs_background": "light"
     },
     "output_type": "display_data"
    }
   ],
   "source": [
    "model.evaluate(x,y),\n",
    "plot_decision_boundary(model_6,x,y)"
   ]
  },
  {
   "cell_type": "markdown",
   "id": "00960ad6",
   "metadata": {},
   "source": [
    "meme material 👆\n"
   ]
  },
  {
   "cell_type": "markdown",
   "id": "aaea908b",
   "metadata": {},
   "source": [
    "#### This time we'll change the activation function on our output layer too.\n",
    "\n",
    "\n",
    "#### Remember the architecture of a classification model? For binary classification, the output layer activation is usually the Sigmoid activation function."
   ]
  },
  {
   "cell_type": "code",
   "execution_count": 29,
   "id": "ede0be68",
   "metadata": {},
   "outputs": [
    {
     "name": "stdout",
     "output_type": "stream",
     "text": [
      "Epoch 1/100\n",
      "32/32 [==============================] - 0s 2ms/step - loss: 0.6891 - accuracy: 0.5020\n",
      "Epoch 2/100\n",
      "32/32 [==============================] - 0s 2ms/step - loss: 0.6848 - accuracy: 0.5170\n",
      "Epoch 3/100\n",
      "32/32 [==============================] - 0s 2ms/step - loss: 0.6824 - accuracy: 0.5160\n",
      "Epoch 4/100\n",
      "32/32 [==============================] - 0s 2ms/step - loss: 0.6813 - accuracy: 0.5300\n",
      "Epoch 5/100\n",
      "32/32 [==============================] - 0s 1ms/step - loss: 0.6802 - accuracy: 0.5390\n",
      "Epoch 6/100\n",
      "32/32 [==============================] - 0s 2ms/step - loss: 0.6794 - accuracy: 0.5380\n",
      "Epoch 7/100\n",
      "32/32 [==============================] - 0s 2ms/step - loss: 0.6785 - accuracy: 0.5500\n",
      "Epoch 8/100\n",
      "32/32 [==============================] - 0s 2ms/step - loss: 0.6778 - accuracy: 0.5480\n",
      "Epoch 9/100\n",
      "32/32 [==============================] - 0s 2ms/step - loss: 0.6772 - accuracy: 0.5530\n",
      "Epoch 10/100\n",
      "32/32 [==============================] - 0s 2ms/step - loss: 0.6766 - accuracy: 0.5510\n",
      "Epoch 11/100\n",
      "32/32 [==============================] - 0s 2ms/step - loss: 0.6760 - accuracy: 0.5500\n",
      "Epoch 12/100\n",
      "32/32 [==============================] - 0s 2ms/step - loss: 0.6754 - accuracy: 0.5550\n",
      "Epoch 13/100\n",
      "32/32 [==============================] - 0s 2ms/step - loss: 0.6747 - accuracy: 0.5560\n",
      "Epoch 14/100\n",
      "32/32 [==============================] - 0s 2ms/step - loss: 0.6741 - accuracy: 0.5540\n",
      "Epoch 15/100\n",
      "32/32 [==============================] - 0s 2ms/step - loss: 0.6734 - accuracy: 0.5580\n",
      "Epoch 16/100\n",
      "32/32 [==============================] - 0s 2ms/step - loss: 0.6727 - accuracy: 0.5550\n",
      "Epoch 17/100\n",
      "32/32 [==============================] - 0s 2ms/step - loss: 0.6722 - accuracy: 0.5550\n",
      "Epoch 18/100\n",
      "32/32 [==============================] - 0s 2ms/step - loss: 0.6716 - accuracy: 0.5550\n",
      "Epoch 19/100\n",
      "32/32 [==============================] - 0s 2ms/step - loss: 0.6710 - accuracy: 0.5590\n",
      "Epoch 20/100\n",
      "32/32 [==============================] - 0s 2ms/step - loss: 0.6702 - accuracy: 0.5600\n",
      "Epoch 21/100\n",
      "32/32 [==============================] - 0s 2ms/step - loss: 0.6696 - accuracy: 0.5640\n",
      "Epoch 22/100\n",
      "32/32 [==============================] - 0s 2ms/step - loss: 0.6688 - accuracy: 0.5600\n",
      "Epoch 23/100\n",
      "32/32 [==============================] - 0s 2ms/step - loss: 0.6682 - accuracy: 0.5700\n",
      "Epoch 24/100\n",
      "32/32 [==============================] - 0s 2ms/step - loss: 0.6679 - accuracy: 0.5570\n",
      "Epoch 25/100\n",
      "32/32 [==============================] - 0s 2ms/step - loss: 0.6671 - accuracy: 0.5670\n",
      "Epoch 26/100\n",
      "32/32 [==============================] - 0s 2ms/step - loss: 0.6662 - accuracy: 0.5750\n",
      "Epoch 27/100\n",
      "32/32 [==============================] - 0s 2ms/step - loss: 0.6657 - accuracy: 0.5810\n",
      "Epoch 28/100\n",
      "32/32 [==============================] - 0s 2ms/step - loss: 0.6645 - accuracy: 0.5700\n",
      "Epoch 29/100\n",
      "32/32 [==============================] - 0s 1ms/step - loss: 0.6642 - accuracy: 0.5700\n",
      "Epoch 30/100\n",
      "32/32 [==============================] - 0s 2ms/step - loss: 0.6634 - accuracy: 0.5790\n",
      "Epoch 31/100\n",
      "32/32 [==============================] - 0s 2ms/step - loss: 0.6627 - accuracy: 0.5760\n",
      "Epoch 32/100\n",
      "32/32 [==============================] - 0s 2ms/step - loss: 0.6619 - accuracy: 0.5760\n",
      "Epoch 33/100\n",
      "32/32 [==============================] - 0s 1ms/step - loss: 0.6610 - accuracy: 0.5760\n",
      "Epoch 34/100\n",
      "32/32 [==============================] - 0s 2ms/step - loss: 0.6606 - accuracy: 0.5760\n",
      "Epoch 35/100\n",
      "32/32 [==============================] - 0s 2ms/step - loss: 0.6597 - accuracy: 0.5790\n",
      "Epoch 36/100\n",
      "32/32 [==============================] - 0s 2ms/step - loss: 0.6586 - accuracy: 0.5780\n",
      "Epoch 37/100\n",
      "32/32 [==============================] - 0s 1ms/step - loss: 0.6580 - accuracy: 0.5780\n",
      "Epoch 38/100\n",
      "32/32 [==============================] - 0s 2ms/step - loss: 0.6573 - accuracy: 0.5790\n",
      "Epoch 39/100\n",
      "32/32 [==============================] - 0s 2ms/step - loss: 0.6564 - accuracy: 0.5790\n",
      "Epoch 40/100\n",
      "32/32 [==============================] - 0s 1ms/step - loss: 0.6556 - accuracy: 0.5760\n",
      "Epoch 41/100\n",
      "32/32 [==============================] - 0s 2ms/step - loss: 0.6548 - accuracy: 0.5780\n",
      "Epoch 42/100\n",
      "32/32 [==============================] - 0s 2ms/step - loss: 0.6540 - accuracy: 0.5750\n",
      "Epoch 43/100\n",
      "32/32 [==============================] - 0s 2ms/step - loss: 0.6530 - accuracy: 0.5780\n",
      "Epoch 44/100\n",
      "32/32 [==============================] - 0s 2ms/step - loss: 0.6521 - accuracy: 0.5810\n",
      "Epoch 45/100\n",
      "32/32 [==============================] - 0s 2ms/step - loss: 0.6496 - accuracy: 0.5810\n",
      "Epoch 46/100\n",
      "32/32 [==============================] - 0s 1ms/step - loss: 0.6481 - accuracy: 0.5830\n",
      "Epoch 47/100\n",
      "32/32 [==============================] - 0s 2ms/step - loss: 0.6472 - accuracy: 0.5850\n",
      "Epoch 48/100\n",
      "32/32 [==============================] - 0s 2ms/step - loss: 0.6451 - accuracy: 0.5880\n",
      "Epoch 49/100\n",
      "32/32 [==============================] - 0s 2ms/step - loss: 0.6426 - accuracy: 0.5880\n",
      "Epoch 50/100\n",
      "32/32 [==============================] - 0s 2ms/step - loss: 0.6404 - accuracy: 0.5940\n",
      "Epoch 51/100\n",
      "32/32 [==============================] - 0s 2ms/step - loss: 0.6384 - accuracy: 0.6010\n",
      "Epoch 52/100\n",
      "32/32 [==============================] - 0s 2ms/step - loss: 0.6364 - accuracy: 0.6130\n",
      "Epoch 53/100\n",
      "32/32 [==============================] - 0s 2ms/step - loss: 0.6344 - accuracy: 0.6110\n",
      "Epoch 54/100\n",
      "32/32 [==============================] - 0s 2ms/step - loss: 0.6312 - accuracy: 0.6280\n",
      "Epoch 55/100\n",
      "32/32 [==============================] - 0s 2ms/step - loss: 0.6287 - accuracy: 0.6380\n",
      "Epoch 56/100\n",
      "32/32 [==============================] - 0s 2ms/step - loss: 0.6259 - accuracy: 0.6840\n",
      "Epoch 57/100\n",
      "32/32 [==============================] - 0s 2ms/step - loss: 0.6227 - accuracy: 0.6950\n",
      "Epoch 58/100\n",
      "32/32 [==============================] - 0s 2ms/step - loss: 0.6200 - accuracy: 0.6990\n",
      "Epoch 59/100\n",
      "32/32 [==============================] - 0s 1ms/step - loss: 0.6168 - accuracy: 0.6950\n",
      "Epoch 60/100\n",
      "32/32 [==============================] - 0s 2ms/step - loss: 0.6133 - accuracy: 0.7240\n",
      "Epoch 61/100\n",
      "32/32 [==============================] - 0s 2ms/step - loss: 0.6101 - accuracy: 0.7200\n",
      "Epoch 62/100\n",
      "32/32 [==============================] - 0s 2ms/step - loss: 0.6059 - accuracy: 0.7330\n",
      "Epoch 63/100\n",
      "32/32 [==============================] - 0s 2ms/step - loss: 0.6014 - accuracy: 0.7400\n",
      "Epoch 64/100\n",
      "32/32 [==============================] - 0s 2ms/step - loss: 0.5966 - accuracy: 0.7460\n",
      "Epoch 65/100\n",
      "32/32 [==============================] - 0s 2ms/step - loss: 0.5905 - accuracy: 0.7440\n",
      "Epoch 66/100\n",
      "32/32 [==============================] - 0s 2ms/step - loss: 0.5830 - accuracy: 0.7450\n",
      "Epoch 67/100\n",
      "32/32 [==============================] - 0s 2ms/step - loss: 0.5757 - accuracy: 0.7460\n",
      "Epoch 68/100\n",
      "32/32 [==============================] - 0s 2ms/step - loss: 0.5683 - accuracy: 0.7800\n",
      "Epoch 69/100\n",
      "32/32 [==============================] - 0s 2ms/step - loss: 0.5614 - accuracy: 0.8010\n",
      "Epoch 70/100\n",
      "32/32 [==============================] - 0s 2ms/step - loss: 0.5548 - accuracy: 0.8010\n",
      "Epoch 71/100\n",
      "32/32 [==============================] - 0s 2ms/step - loss: 0.5474 - accuracy: 0.8240\n",
      "Epoch 72/100\n",
      "32/32 [==============================] - 0s 1ms/step - loss: 0.5406 - accuracy: 0.8460\n",
      "Epoch 73/100\n",
      "32/32 [==============================] - 0s 2ms/step - loss: 0.5327 - accuracy: 0.8470\n",
      "Epoch 74/100\n",
      "32/32 [==============================] - 0s 2ms/step - loss: 0.5243 - accuracy: 0.8620\n",
      "Epoch 75/100\n",
      "32/32 [==============================] - 0s 2ms/step - loss: 0.5148 - accuracy: 0.8870\n",
      "Epoch 76/100\n",
      "32/32 [==============================] - 0s 2ms/step - loss: 0.5042 - accuracy: 0.8820\n",
      "Epoch 77/100\n",
      "32/32 [==============================] - 0s 2ms/step - loss: 0.4927 - accuracy: 0.9300\n",
      "Epoch 78/100\n",
      "32/32 [==============================] - 0s 2ms/step - loss: 0.4824 - accuracy: 0.9090\n",
      "Epoch 79/100\n",
      "32/32 [==============================] - 0s 2ms/step - loss: 0.4733 - accuracy: 0.9460\n",
      "Epoch 80/100\n",
      "32/32 [==============================] - 0s 2ms/step - loss: 0.4632 - accuracy: 0.9600\n",
      "Epoch 81/100\n",
      "32/32 [==============================] - 0s 1ms/step - loss: 0.4546 - accuracy: 0.9600\n",
      "Epoch 82/100\n",
      "32/32 [==============================] - 0s 2ms/step - loss: 0.4456 - accuracy: 0.9580\n",
      "Epoch 83/100\n",
      "32/32 [==============================] - 0s 1ms/step - loss: 0.4360 - accuracy: 0.9630\n",
      "Epoch 84/100\n",
      "32/32 [==============================] - 0s 2ms/step - loss: 0.4260 - accuracy: 0.9690\n",
      "Epoch 85/100\n",
      "32/32 [==============================] - 0s 2ms/step - loss: 0.4145 - accuracy: 0.9700\n",
      "Epoch 86/100\n",
      "32/32 [==============================] - 0s 2ms/step - loss: 0.4059 - accuracy: 0.9740\n",
      "Epoch 87/100\n",
      "32/32 [==============================] - 0s 1ms/step - loss: 0.3962 - accuracy: 0.9750\n",
      "Epoch 88/100\n",
      "32/32 [==============================] - 0s 2ms/step - loss: 0.3873 - accuracy: 0.9720\n",
      "Epoch 89/100\n",
      "32/32 [==============================] - 0s 1ms/step - loss: 0.3795 - accuracy: 0.9750\n",
      "Epoch 90/100\n",
      "32/32 [==============================] - 0s 2ms/step - loss: 0.3716 - accuracy: 0.9750\n",
      "Epoch 91/100\n",
      "32/32 [==============================] - 0s 1ms/step - loss: 0.3635 - accuracy: 0.9840\n",
      "Epoch 92/100\n",
      "32/32 [==============================] - 0s 2ms/step - loss: 0.3554 - accuracy: 0.9830\n",
      "Epoch 93/100\n",
      "32/32 [==============================] - 0s 1ms/step - loss: 0.3482 - accuracy: 0.9800\n",
      "Epoch 94/100\n",
      "32/32 [==============================] - 0s 1ms/step - loss: 0.3404 - accuracy: 0.9820\n",
      "Epoch 95/100\n",
      "32/32 [==============================] - 0s 1ms/step - loss: 0.3329 - accuracy: 0.9880\n",
      "Epoch 96/100\n",
      "32/32 [==============================] - 0s 2ms/step - loss: 0.3268 - accuracy: 0.9870\n",
      "Epoch 97/100\n",
      "32/32 [==============================] - 0s 1ms/step - loss: 0.3190 - accuracy: 0.9870\n",
      "Epoch 98/100\n",
      "32/32 [==============================] - 0s 2ms/step - loss: 0.3122 - accuracy: 0.9890\n",
      "Epoch 99/100\n",
      "32/32 [==============================] - 0s 1ms/step - loss: 0.3059 - accuracy: 0.9880\n",
      "Epoch 100/100\n",
      "32/32 [==============================] - 0s 2ms/step - loss: 0.2993 - accuracy: 0.9890\n"
     ]
    }
   ],
   "source": [
    "# set the random seed\n",
    "tf.random.set_seed(42)\n",
    "\n",
    "# 1. Make the model\n",
    "model_6=tf.keras.Sequential([\n",
    "    tf.keras.layers.Dense(4,activation=\"relu\"), #  layer-1\n",
    "    tf.keras.layers.Dense(4,activation=\"relu\"), # hidden layer-2\n",
    "    tf.keras.layers.Dense(1,activation=\"sigmoid\") # output layer\n",
    "])\n",
    "\n",
    "# 2. Compile the model\n",
    "model_6.compile(loss=\"binary_crossentropy\",\n",
    "                optimizer=tf.keras.optimizers.Adam(lr=0.001),\n",
    "                metrics=[\"accuracy\"])\n",
    "\n",
    "# 3. Fit the model\n",
    "history=model_6.fit(x,y,epochs=100)"
   ]
  },
  {
   "cell_type": "code",
   "execution_count": 30,
   "id": "6200faed",
   "metadata": {},
   "outputs": [
    {
     "data": {
      "image/png": "[encoded data removed]",
      "text/plain": [
       "<Figure size 432x288 with 1 Axes>"
      ]
     },
     "metadata": {
      "needs_background": "light"
     },
     "output_type": "display_data"
    }
   ],
   "source": [
    "pd.DataFrame(history.history).plot();"
   ]
  },
  {
   "cell_type": "code",
   "execution_count": 31,
   "id": "86dbeff8",
   "metadata": {},
   "outputs": [
    {
     "name": "stdout",
     "output_type": "stream",
     "text": [
      "32/32 [==============================] - 0s 1ms/step - loss: 0.2948 - accuracy: 0.9910\n"
     ]
    },
    {
     "data": {
      "text/plain": [
       "[0.2948004901409149, 0.9909999966621399]"
      ]
     },
     "execution_count": 31,
     "metadata": {},
     "output_type": "execute_result"
    }
   ],
   "source": [
    "model_6.evaluate(x,y)"
   ]
  },
  {
   "cell_type": "code",
   "execution_count": 32,
   "id": "baeb0e61",
   "metadata": {},
   "outputs": [
    {
     "name": "stdout",
     "output_type": "stream",
     "text": [
      "313/313 [==============================] - 0s 558us/step\n",
      "doing binary classifcation...\n"
     ]
    },
    {
     "data": {
      "image/png": "[encoded data removed]",
      "text/plain": [
       "<Figure size 432x288 with 1 Axes>"
      ]
     },
     "metadata": {
      "needs_background": "light"
     },
     "output_type": "display_data"
    }
   ],
   "source": [
    "plot_decision_boundary(model_6,x,y)"
   ]
  },
  {
   "cell_type": "markdown",
   "id": "f18e62c9",
   "metadata": {},
   "source": [
    "see we got the result \n",
    "\n",
    "our aim was to get `non linear` line between red and blue circle see we are getting our white line in between\n",
    "\n",
    "\n",
    "**Note**: The combination of linear (straight lines) and non-linear (non-straight lines) function is one of the key fundamentals of nueral network"
   ]
  },
  {
   "cell_type": "markdown",
   "id": "a3dce7f0",
   "metadata": {},
   "source": [
    "# Study about all the activation functions"
   ]
  },
  {
   "cell_type": "code",
   "execution_count": 33,
   "id": "77bdc403",
   "metadata": {},
   "outputs": [
    {
     "data": {
      "text/plain": [
       "<tf.Tensor: shape=(20,), dtype=float32, numpy=\n",
       "array([-10.,  -9.,  -8.,  -7.,  -6.,  -5.,  -4.,  -3.,  -2.,  -1.,   0.,\n",
       "         1.,   2.,   3.,   4.,   5.,   6.,   7.,   8.,   9.],\n",
       "      dtype=float32)>"
      ]
     },
     "execution_count": 33,
     "metadata": {},
     "output_type": "execute_result"
    }
   ],
   "source": [
    "# create a toy tensor (similar to the date we pass into our models)\n",
    "a = tf.cast(tf.range(-10,10),tf.float32)\n",
    "a"
   ]
  },
  {
   "cell_type": "code",
   "execution_count": 34,
   "id": "423bbd5d",
   "metadata": {},
   "outputs": [
    {
     "data": {
      "image/png": "[encoded data removed]",
      "text/plain": [
       "<Figure size 432x288 with 1 Axes>"
      ]
     },
     "metadata": {
      "needs_background": "light"
     },
     "output_type": "display_data"
    }
   ],
   "source": [
    "# visualize our toy tensor\n",
    "plt.plot(a);"
   ]
  },
  {
   "cell_type": "code",
   "execution_count": 35,
   "id": "68db2c70",
   "metadata": {},
   "outputs": [
    {
     "data": {
      "text/plain": [
       "<tf.Tensor: shape=(20,), dtype=float32, numpy=\n",
       "array([4.5397868e-05, 1.2339458e-04, 3.3535014e-04, 9.1105117e-04,\n",
       "       2.4726230e-03, 6.6928510e-03, 1.7986210e-02, 4.7425874e-02,\n",
       "       1.1920292e-01, 2.6894143e-01, 5.0000000e-01, 7.3105854e-01,\n",
       "       8.8079703e-01, 9.5257413e-01, 9.8201376e-01, 9.9330717e-01,\n",
       "       9.9752742e-01, 9.9908900e-01, 9.9966466e-01, 9.9987662e-01],\n",
       "      dtype=float32)>"
      ]
     },
     "execution_count": 35,
     "metadata": {},
     "output_type": "execute_result"
    }
   ],
   "source": [
    "# let's start by replicating sigmoid- sigmoid(x) = 1 / (1 + exp(-x)) . non linear function\n",
    "def sigmoid (x):\n",
    "    return 1 / (1 + tf.exp(-x))\n",
    "\n",
    "# use the sigmoid function on our toy tensor\n",
    "sigmoid(a)"
   ]
  },
  {
   "cell_type": "code",
   "execution_count": 36,
   "id": "cba0c5ba",
   "metadata": {},
   "outputs": [
    {
     "data": {
      "image/png": "[encoded data removed]",
      "text/plain": [
       "<Figure size 432x288 with 1 Axes>"
      ]
     },
     "metadata": {
      "needs_background": "light"
     },
     "output_type": "display_data"
    }
   ],
   "source": [
    "plt.plot(sigmoid(a));"
   ]
  },
  {
   "cell_type": "code",
   "execution_count": 37,
   "id": "d9558f65",
   "metadata": {},
   "outputs": [
    {
     "data": {
      "text/plain": [
       "<tf.Tensor: shape=(20,), dtype=float32, numpy=\n",
       "array([0., 0., 0., 0., 0., 0., 0., 0., 0., 0., 0., 1., 2., 3., 4., 5., 6.,\n",
       "       7., 8., 9.], dtype=float32)>"
      ]
     },
     "execution_count": 37,
     "metadata": {},
     "output_type": "execute_result"
    }
   ],
   "source": [
    "# use the relu function\n",
    "# for reference - https://stats.stackexchange.com/questions/226923/why-do-we-use-relu-in-neural-networks-and-how-do-we-use-it\n",
    "def relu(x):\n",
    "    return tf.maximum(x,0)  # for relu it take only x>0 and other less than will be converted to 0\n",
    "relu(a)"
   ]
  },
  {
   "cell_type": "code",
   "execution_count": 38,
   "id": "34b224c2",
   "metadata": {},
   "outputs": [
    {
     "data": {
      "text/plain": [
       "[<matplotlib.lines.Line2D at 0x203f70b5100>]"
      ]
     },
     "execution_count": 38,
     "metadata": {},
     "output_type": "execute_result"
    },
    {
     "data": {
      "image/png": "[encoded data removed]",
      "text/plain": [
       "<Figure size 432x288 with 1 Axes>"
      ]
     },
     "metadata": {
      "needs_background": "light"
     },
     "output_type": "display_data"
    }
   ],
   "source": [
    "plt.plot(relu(a))"
   ]
  },
  {
   "cell_type": "code",
   "execution_count": 39,
   "id": "aa32c8b1",
   "metadata": {},
   "outputs": [
    {
     "data": {
      "image/png": "[encoded data removed]",
      "text/plain": [
       "<Figure size 432x288 with 1 Axes>"
      ]
     },
     "metadata": {
      "needs_background": "light"
     },
     "output_type": "display_data"
    }
   ],
   "source": [
    "plt.plot(sigmoid(a),label=\"sigmoid\");\n",
    "plt.plot(relu(a),label=\"relu\");\n",
    "plt.legend();"
   ]
  },
  {
   "cell_type": "code",
   "execution_count": 40,
   "id": "6e9735c4",
   "metadata": {},
   "outputs": [
    {
     "data": {
      "text/plain": [
       "<tf.Tensor: shape=(20,), dtype=float32, numpy=\n",
       "array([-10.,  -9.,  -8.,  -7.,  -6.,  -5.,  -4.,  -3.,  -2.,  -1.,   0.,\n",
       "         1.,   2.,   3.,   4.,   5.,   6.,   7.,   8.,   9.],\n",
       "      dtype=float32)>"
      ]
     },
     "execution_count": 40,
     "metadata": {},
     "output_type": "execute_result"
    }
   ],
   "source": [
    "# Let's try the linear activation function\n",
    "tf.keras.activations.linear(a)"
   ]
  },
  {
   "cell_type": "code",
   "execution_count": 41,
   "id": "c61e808a",
   "metadata": {},
   "outputs": [
    {
     "data": {
      "image/png": "[encoded data removed]",
      "text/plain": [
       "<Figure size 432x288 with 1 Axes>"
      ]
     },
     "metadata": {
      "needs_background": "light"
     },
     "output_type": "display_data"
    }
   ],
   "source": [
    "# Does the linear activation function do anything?\n",
    "plt.plot(tf.keras.activations.linear(a));"
   ]
  },
  {
   "cell_type": "code",
   "execution_count": 42,
   "id": "d6f224a4",
   "metadata": {},
   "outputs": [
    {
     "data": {
      "text/plain": [
       "<tf.Tensor: shape=(20,), dtype=bool, numpy=\n",
       "array([ True,  True,  True,  True,  True,  True,  True,  True,  True,\n",
       "        True,  True,  True,  True,  True,  True,  True,  True,  True,\n",
       "        True,  True])>"
      ]
     },
     "execution_count": 42,
     "metadata": {},
     "output_type": "execute_result"
    }
   ],
   "source": [
    "# Does a even changed?\n",
    "a == tf.keras.activations.linear(a)"
   ]
  },
  {
   "cell_type": "markdown",
   "id": "737cf340",
   "metadata": {},
   "source": [
    "# Evaluating and imporoving our classification \n",
    "\n",
    "\n",
    "So far we've been training and testing on the same dataset...\n",
    "\n",
    "However, in machine learning this is basically a sin.\n",
    "\n",
    "So let's create a training and test set."
   ]
  },
  {
   "cell_type": "code",
   "execution_count": 43,
   "id": "ad90a6bd",
   "metadata": {},
   "outputs": [
    {
     "data": {
      "text/plain": [
       "(1000, 1000)"
      ]
     },
     "execution_count": 43,
     "metadata": {},
     "output_type": "execute_result"
    }
   ],
   "source": [
    "# check how many examples we have \n",
    "len(x),len(y)"
   ]
  },
  {
   "cell_type": "code",
   "execution_count": 44,
   "id": "39bfea07",
   "metadata": {},
   "outputs": [
    {
     "data": {
      "text/plain": [
       "((800, 2), (800,), (200, 2), (200,))"
      ]
     },
     "execution_count": 44,
     "metadata": {},
     "output_type": "execute_result"
    }
   ],
   "source": [
    "# split into training and testing sets\n",
    "x_train, y_train = x[:800],y[:800]\n",
    "x_test, y_test = x[800:],y[800:]\n",
    "x_train.shape, y_train.shape , x_test.shape , y_test.shape"
   ]
  },
  {
   "cell_type": "code",
   "execution_count": 45,
   "id": "decb023a",
   "metadata": {},
   "outputs": [
    {
     "name": "stdout",
     "output_type": "stream",
     "text": [
      "Epoch 1/25\n"
     ]
    },
    {
     "name": "stderr",
     "output_type": "stream",
     "text": [
      "C:\\Users\\Amit\\Desktop\\sample\\anaconda3\\lib\\site-packages\\keras\\optimizers\\optimizer_v2\\adam.py:110: UserWarning: The `lr` argument is deprecated, use `learning_rate` instead.\n",
      "  super(Adam, self).__init__(name, **kwargs)\n"
     ]
    },
    {
     "name": "stdout",
     "output_type": "stream",
     "text": [
      "25/25 [==============================] - 0s 2ms/step - loss: 0.6847 - accuracy: 0.5425\n",
      "Epoch 2/25\n",
      "25/25 [==============================] - 0s 2ms/step - loss: 0.6777 - accuracy: 0.5525\n",
      "Epoch 3/25\n",
      "25/25 [==============================] - 0s 1ms/step - loss: 0.6736 - accuracy: 0.5512\n",
      "Epoch 4/25\n",
      "25/25 [==============================] - 0s 1ms/step - loss: 0.6681 - accuracy: 0.5775\n",
      "Epoch 5/25\n",
      "25/25 [==============================] - 0s 1ms/step - loss: 0.6633 - accuracy: 0.5850\n",
      "Epoch 6/25\n",
      "25/25 [==============================] - 0s 2ms/step - loss: 0.6546 - accuracy: 0.5838\n",
      "Epoch 7/25\n",
      "25/25 [==============================] - 0s 1ms/step - loss: 0.6413 - accuracy: 0.6750\n",
      "Epoch 8/25\n",
      "25/25 [==============================] - 0s 1ms/step - loss: 0.6264 - accuracy: 0.7013\n",
      "Epoch 9/25\n",
      "25/25 [==============================] - 0s 1ms/step - loss: 0.6038 - accuracy: 0.7487\n",
      "Epoch 10/25\n",
      "25/25 [==============================] - 0s 2ms/step - loss: 0.5714 - accuracy: 0.7738\n",
      "Epoch 11/25\n",
      "25/25 [==============================] - 0s 1ms/step - loss: 0.5404 - accuracy: 0.7650\n",
      "Epoch 12/25\n",
      "25/25 [==============================] - 0s 2ms/step - loss: 0.5015 - accuracy: 0.7837\n",
      "Epoch 13/25\n",
      "25/25 [==============================] - 0s 1ms/step - loss: 0.4683 - accuracy: 0.7975\n",
      "Epoch 14/25\n",
      "25/25 [==============================] - 0s 2ms/step - loss: 0.4113 - accuracy: 0.8450\n",
      "Epoch 15/25\n",
      "25/25 [==============================] - 0s 992us/step - loss: 0.3625 - accuracy: 0.9125\n",
      "Epoch 16/25\n",
      "25/25 [==============================] - 0s 1ms/step - loss: 0.3209 - accuracy: 0.9312\n",
      "Epoch 17/25\n",
      "25/25 [==============================] - 0s 1ms/step - loss: 0.2847 - accuracy: 0.9488\n",
      "Epoch 18/25\n",
      "25/25 [==============================] - 0s 2ms/step - loss: 0.2597 - accuracy: 0.9525\n",
      "Epoch 19/25\n",
      "25/25 [==============================] - 0s 1ms/step - loss: 0.2375 - accuracy: 0.9563\n",
      "Epoch 20/25\n",
      "25/25 [==============================] - 0s 1ms/step - loss: 0.2135 - accuracy: 0.9663\n",
      "Epoch 21/25\n",
      "25/25 [==============================] - 0s 2ms/step - loss: 0.1938 - accuracy: 0.9775\n",
      "Epoch 22/25\n",
      "25/25 [==============================] - 0s 1ms/step - loss: 0.1752 - accuracy: 0.9737\n",
      "Epoch 23/25\n",
      "25/25 [==============================] - 0s 1ms/step - loss: 0.1619 - accuracy: 0.9787\n",
      "Epoch 24/25\n",
      "25/25 [==============================] - 0s 1ms/step - loss: 0.1550 - accuracy: 0.9775\n",
      "Epoch 25/25\n",
      "25/25 [==============================] - 0s 2ms/step - loss: 0.1490 - accuracy: 0.9762\n"
     ]
    }
   ],
   "source": [
    "# Let's recreate a model to fit on the training data and evaluating on the testing dataset\n",
    "\n",
    "# set the random seed\n",
    "tf.random.set_seed(42)\n",
    "\n",
    "# 1 . Creating the model (same as model 7)\n",
    "model_8 = tf.keras.Sequential([\n",
    "    tf.keras.layers.Dense(4, activation=\"relu\"),\n",
    "    tf.keras.layers.Dense(4,activation=\"relu\"),\n",
    "    tf.keras.layers.Dense(1,activation=\"sigmoid\") # o/p layer\n",
    "])\n",
    "\n",
    "model_8.compile(loss=\"binary_crossentropy\",\n",
    "                optimizer=tf.keras.optimizers.Adam(lr=0.01),\n",
    "                metrics=[\"accuracy\"])\n",
    "\n",
    "history=model_8.fit(x_train,y_train,epochs=25)"
   ]
  },
  {
   "cell_type": "markdown",
   "id": "eafa3041",
   "metadata": {},
   "source": [
    "### ValueError: logits and labels must have the same shape ((32, 1) vs (32, 2))\n",
    "\n",
    "\n",
    "It will give the error when it has more than 1 nueron in output layer in comparision of hidden and input layer"
   ]
  },
  {
   "cell_type": "code",
   "execution_count": 46,
   "id": "50b58849",
   "metadata": {},
   "outputs": [
    {
     "name": "stdout",
     "output_type": "stream",
     "text": [
      "7/7 [==============================] - 0s 0s/step - loss: 0.1247 - accuracy: 1.0000\n"
     ]
    },
    {
     "data": {
      "text/plain": [
       "[0.12468849867582321, 1.0]"
      ]
     },
     "execution_count": 46,
     "metadata": {},
     "output_type": "execute_result"
    }
   ],
   "source": [
    "model_8.evaluate(x_test,y_test)"
   ]
  },
  {
   "cell_type": "code",
   "execution_count": 47,
   "id": "b3780308",
   "metadata": {},
   "outputs": [
    {
     "name": "stdout",
     "output_type": "stream",
     "text": [
      "313/313 [==============================] - 0s 627us/step\n",
      "doing binary classifcation...\n",
      "313/313 [==============================] - 0s 710us/step\n",
      "doing binary classifcation...\n"
     ]
    },
    {
     "data": {
      "image/png": "[encoded data removed]",
      "text/plain": [
       "<Figure size 864x432 with 2 Axes>"
      ]
     },
     "metadata": {
      "needs_background": "light"
     },
     "output_type": "display_data"
    }
   ],
   "source": [
    "# Plot the decision boundaries\n",
    "plt.figure(figsize=(12,6))\n",
    "plt.subplot(1,2,1) #(row,col,index)\n",
    "plt.title(\"Train\")\n",
    "plot_decision_boundary(model_8,x_train,y_train)\n",
    "plt.subplot(1,2,2)\n",
    "plt.title(\"Test\")\n",
    "plot_decision_boundary(model_8,x_test,y_test)"
   ]
  },
  {
   "cell_type": "code",
   "execution_count": 48,
   "id": "b35ba59c",
   "metadata": {},
   "outputs": [
    {
     "name": "stdout",
     "output_type": "stream",
     "text": [
      "Model: \"sequential_8\"\n",
      "_________________________________________________________________\n",
      " Layer (type)                Output Shape              Param #   \n",
      "=================================================================\n",
      " dense_18 (Dense)            (None, 4)                 12        \n",
      "                                                                 \n",
      " dense_19 (Dense)            (None, 4)                 20        \n",
      "                                                                 \n",
      " dense_20 (Dense)            (None, 1)                 5         \n",
      "                                                                 \n",
      "=================================================================\n",
      "Total params: 37\n",
      "Trainable params: 37\n",
      "Non-trainable params: 0\n",
      "_________________________________________________________________\n"
     ]
    }
   ],
   "source": [
    "model_8.summary()"
   ]
  },
  {
   "cell_type": "markdown",
   "id": "e3e065c3",
   "metadata": {},
   "source": [
    "## Plot the loss (or training) curves"
   ]
  },
  {
   "cell_type": "code",
   "execution_count": 49,
   "id": "9e7154da",
   "metadata": {},
   "outputs": [
    {
     "data": {
      "text/plain": [
       "{'loss': [0.6846511960029602,\n",
       "  0.6777209639549255,\n",
       "  0.6735945343971252,\n",
       "  0.6681485772132874,\n",
       "  0.6632685661315918,\n",
       "  0.6545671820640564,\n",
       "  0.6412574648857117,\n",
       "  0.6264280676841736,\n",
       "  0.603830873966217,\n",
       "  0.5714035034179688,\n",
       "  0.5404428243637085,\n",
       "  0.5015037059783936,\n",
       "  0.46833184361457825,\n",
       "  0.41130149364471436,\n",
       "  0.36250579357147217,\n",
       "  0.3209042251110077,\n",
       "  0.2847079038619995,\n",
       "  0.2597199082374573,\n",
       "  0.23746894299983978,\n",
       "  0.21351952850818634,\n",
       "  0.19382020831108093,\n",
       "  0.1752435863018036,\n",
       "  0.16189301013946533,\n",
       "  0.1549890637397766,\n",
       "  0.1489727944135666],\n",
       " 'accuracy': [0.5425000190734863,\n",
       "  0.5525000095367432,\n",
       "  0.5512499809265137,\n",
       "  0.5774999856948853,\n",
       "  0.5849999785423279,\n",
       "  0.5837500095367432,\n",
       "  0.675000011920929,\n",
       "  0.7012500166893005,\n",
       "  0.7487499713897705,\n",
       "  0.7737500071525574,\n",
       "  0.7649999856948853,\n",
       "  0.7837499976158142,\n",
       "  0.7975000143051147,\n",
       "  0.8450000286102295,\n",
       "  0.9125000238418579,\n",
       "  0.9312499761581421,\n",
       "  0.9487500190734863,\n",
       "  0.9524999856948853,\n",
       "  0.956250011920929,\n",
       "  0.9662500023841858,\n",
       "  0.9775000214576721,\n",
       "  0.9737499952316284,\n",
       "  0.9787499904632568,\n",
       "  0.9775000214576721,\n",
       "  0.9762499928474426]}"
      ]
     },
     "execution_count": 49,
     "metadata": {},
     "output_type": "execute_result"
    }
   ],
   "source": [
    "history.history"
   ]
  },
  {
   "cell_type": "code",
   "execution_count": 50,
   "id": "0089d486",
   "metadata": {},
   "outputs": [
    {
     "data": {
      "text/html": [
       "<div>\n",
       "<style scoped>\n",
       "    .dataframe tbody tr th:only-of-type {\n",
       "        vertical-align: middle;\n",
       "    }\n",
       "\n",
       "    .dataframe tbody tr th {\n",
       "        vertical-align: top;\n",
       "    }\n",
       "\n",
       "    .dataframe thead th {\n",
       "        text-align: right;\n",
       "    }\n",
       "</style>\n",
       "<table border=\"1\" class=\"dataframe\">\n",
       "  <thead>\n",
       "    <tr style=\"text-align: right;\">\n",
       "      <th></th>\n",
       "      <th>loss</th>\n",
       "      <th>accuracy</th>\n",
       "    </tr>\n",
       "  </thead>\n",
       "  <tbody>\n",
       "    <tr>\n",
       "      <th>0</th>\n",
       "      <td>0.684651</td>\n",
       "      <td>0.54250</td>\n",
       "    </tr>\n",
       "    <tr>\n",
       "      <th>1</th>\n",
       "      <td>0.677721</td>\n",
       "      <td>0.55250</td>\n",
       "    </tr>\n",
       "    <tr>\n",
       "      <th>2</th>\n",
       "      <td>0.673595</td>\n",
       "      <td>0.55125</td>\n",
       "    </tr>\n",
       "    <tr>\n",
       "      <th>3</th>\n",
       "      <td>0.668149</td>\n",
       "      <td>0.57750</td>\n",
       "    </tr>\n",
       "    <tr>\n",
       "      <th>4</th>\n",
       "      <td>0.663269</td>\n",
       "      <td>0.58500</td>\n",
       "    </tr>\n",
       "    <tr>\n",
       "      <th>5</th>\n",
       "      <td>0.654567</td>\n",
       "      <td>0.58375</td>\n",
       "    </tr>\n",
       "    <tr>\n",
       "      <th>6</th>\n",
       "      <td>0.641257</td>\n",
       "      <td>0.67500</td>\n",
       "    </tr>\n",
       "    <tr>\n",
       "      <th>7</th>\n",
       "      <td>0.626428</td>\n",
       "      <td>0.70125</td>\n",
       "    </tr>\n",
       "    <tr>\n",
       "      <th>8</th>\n",
       "      <td>0.603831</td>\n",
       "      <td>0.74875</td>\n",
       "    </tr>\n",
       "    <tr>\n",
       "      <th>9</th>\n",
       "      <td>0.571404</td>\n",
       "      <td>0.77375</td>\n",
       "    </tr>\n",
       "    <tr>\n",
       "      <th>10</th>\n",
       "      <td>0.540443</td>\n",
       "      <td>0.76500</td>\n",
       "    </tr>\n",
       "    <tr>\n",
       "      <th>11</th>\n",
       "      <td>0.501504</td>\n",
       "      <td>0.78375</td>\n",
       "    </tr>\n",
       "    <tr>\n",
       "      <th>12</th>\n",
       "      <td>0.468332</td>\n",
       "      <td>0.79750</td>\n",
       "    </tr>\n",
       "    <tr>\n",
       "      <th>13</th>\n",
       "      <td>0.411301</td>\n",
       "      <td>0.84500</td>\n",
       "    </tr>\n",
       "    <tr>\n",
       "      <th>14</th>\n",
       "      <td>0.362506</td>\n",
       "      <td>0.91250</td>\n",
       "    </tr>\n",
       "    <tr>\n",
       "      <th>15</th>\n",
       "      <td>0.320904</td>\n",
       "      <td>0.93125</td>\n",
       "    </tr>\n",
       "    <tr>\n",
       "      <th>16</th>\n",
       "      <td>0.284708</td>\n",
       "      <td>0.94875</td>\n",
       "    </tr>\n",
       "    <tr>\n",
       "      <th>17</th>\n",
       "      <td>0.259720</td>\n",
       "      <td>0.95250</td>\n",
       "    </tr>\n",
       "    <tr>\n",
       "      <th>18</th>\n",
       "      <td>0.237469</td>\n",
       "      <td>0.95625</td>\n",
       "    </tr>\n",
       "    <tr>\n",
       "      <th>19</th>\n",
       "      <td>0.213520</td>\n",
       "      <td>0.96625</td>\n",
       "    </tr>\n",
       "    <tr>\n",
       "      <th>20</th>\n",
       "      <td>0.193820</td>\n",
       "      <td>0.97750</td>\n",
       "    </tr>\n",
       "    <tr>\n",
       "      <th>21</th>\n",
       "      <td>0.175244</td>\n",
       "      <td>0.97375</td>\n",
       "    </tr>\n",
       "    <tr>\n",
       "      <th>22</th>\n",
       "      <td>0.161893</td>\n",
       "      <td>0.97875</td>\n",
       "    </tr>\n",
       "    <tr>\n",
       "      <th>23</th>\n",
       "      <td>0.154989</td>\n",
       "      <td>0.97750</td>\n",
       "    </tr>\n",
       "    <tr>\n",
       "      <th>24</th>\n",
       "      <td>0.148973</td>\n",
       "      <td>0.97625</td>\n",
       "    </tr>\n",
       "  </tbody>\n",
       "</table>\n",
       "</div>"
      ],
      "text/plain": [
       "        loss  accuracy\n",
       "0   0.684651   0.54250\n",
       "1   0.677721   0.55250\n",
       "2   0.673595   0.55125\n",
       "3   0.668149   0.57750\n",
       "4   0.663269   0.58500\n",
       "5   0.654567   0.58375\n",
       "6   0.641257   0.67500\n",
       "7   0.626428   0.70125\n",
       "8   0.603831   0.74875\n",
       "9   0.571404   0.77375\n",
       "10  0.540443   0.76500\n",
       "11  0.501504   0.78375\n",
       "12  0.468332   0.79750\n",
       "13  0.411301   0.84500\n",
       "14  0.362506   0.91250\n",
       "15  0.320904   0.93125\n",
       "16  0.284708   0.94875\n",
       "17  0.259720   0.95250\n",
       "18  0.237469   0.95625\n",
       "19  0.213520   0.96625\n",
       "20  0.193820   0.97750\n",
       "21  0.175244   0.97375\n",
       "22  0.161893   0.97875\n",
       "23  0.154989   0.97750\n",
       "24  0.148973   0.97625"
      ]
     },
     "execution_count": 50,
     "metadata": {},
     "output_type": "execute_result"
    }
   ],
   "source": [
    "pd.DataFrame(history.history)"
   ]
  },
  {
   "cell_type": "code",
   "execution_count": 51,
   "id": "bb3fe7ca",
   "metadata": {},
   "outputs": [
    {
     "data": {
      "text/plain": [
       "Text(0.5, 1.0, 'Model_8 loss curves')"
      ]
     },
     "execution_count": 51,
     "metadata": {},
     "output_type": "execute_result"
    },
    {
     "data": {
      "image/png": "[encoded data removed]",
      "text/plain": [
       "<Figure size 432x288 with 1 Axes>"
      ]
     },
     "metadata": {
      "needs_background": "light"
     },
     "output_type": "display_data"
    }
   ],
   "source": [
    "# Plot the curves\n",
    "pd.DataFrame(history.history).plot()\n",
    "plt.title(\"Model_8 loss curves\")"
   ]
  },
  {
   "cell_type": "markdown",
   "id": "894499fd",
   "metadata": {},
   "source": [
    "**Note** - For many problems, the loss function going down means the total model is improving (the predictions it's making are getting closer to the ground truth label)"
   ]
  },
  {
   "cell_type": "markdown",
   "id": "073b4304",
   "metadata": {},
   "source": [
    "## Find the best learning rate\n",
    "\n",
    "To find the ideal learning rate (the learning rate where the loss decreases the most during training) we're going to use following steps:\n",
    "\n",
    "* A learning rate **callback** - you can think of a callback as an extra piece of functionality, you can add to your while it's training.\n",
    "\n",
    "* Another model \n",
    "\n",
    "* Modified loss curves plot"
   ]
  },
  {
   "cell_type": "markdown",
   "id": "0af5450f",
   "metadata": {},
   "source": []
  },
  {
   "cell_type": "code",
   "execution_count": 52,
   "id": "572d30e4",
   "metadata": {},
   "outputs": [
    {
     "name": "stdout",
     "output_type": "stream",
     "text": [
      "Epoch 1/100\n",
      "25/25 [==============================] - 0s 2ms/step - loss: 0.6945 - accuracy: 0.4988 - lr: 1.0000e-04\n",
      "Epoch 2/100\n",
      "25/25 [==============================] - 0s 2ms/step - loss: 0.6938 - accuracy: 0.4975 - lr: 1.1220e-04\n",
      "Epoch 3/100\n",
      "25/25 [==============================] - 0s 2ms/step - loss: 0.6930 - accuracy: 0.4963 - lr: 1.2589e-04\n",
      "Epoch 4/100\n",
      "25/25 [==============================] - 0s 1ms/step - loss: 0.6922 - accuracy: 0.4975 - lr: 1.4125e-04\n",
      "Epoch 5/100\n",
      "25/25 [==============================] - 0s 2ms/step - loss: 0.6914 - accuracy: 0.5063 - lr: 1.5849e-04\n",
      "Epoch 6/100\n",
      "25/25 [==============================] - 0s 1ms/step - loss: 0.6906 - accuracy: 0.5013 - lr: 1.7783e-04\n",
      "Epoch 7/100\n",
      "25/25 [==============================] - 0s 2ms/step - loss: 0.6898 - accuracy: 0.4950 - lr: 1.9953e-04\n",
      "Epoch 8/100\n",
      "25/25 [==============================] - 0s 1ms/step - loss: 0.6889 - accuracy: 0.5038 - lr: 2.2387e-04\n",
      "Epoch 9/100\n",
      "25/25 [==============================] - 0s 999us/step - loss: 0.6880 - accuracy: 0.5013 - lr: 2.5119e-04\n",
      "Epoch 10/100\n",
      "25/25 [==============================] - 0s 2ms/step - loss: 0.6871 - accuracy: 0.5050 - lr: 2.8184e-04\n",
      "Epoch 11/100\n",
      "25/25 [==============================] - 0s 2ms/step - loss: 0.6863 - accuracy: 0.5200 - lr: 3.1623e-04\n",
      "Epoch 12/100\n",
      "25/25 [==============================] - 0s 2ms/step - loss: 0.6856 - accuracy: 0.5163 - lr: 3.5481e-04\n",
      "Epoch 13/100\n",
      "25/25 [==============================] - 0s 2ms/step - loss: 0.6847 - accuracy: 0.5175 - lr: 3.9811e-04\n",
      "Epoch 14/100\n",
      "25/25 [==============================] - 0s 2ms/step - loss: 0.6842 - accuracy: 0.5200 - lr: 4.4668e-04\n",
      "Epoch 15/100\n",
      "25/25 [==============================] - 0s 2ms/step - loss: 0.6835 - accuracy: 0.5213 - lr: 5.0119e-04\n",
      "Epoch 16/100\n",
      "25/25 [==============================] - 0s 1ms/step - loss: 0.6829 - accuracy: 0.5213 - lr: 5.6234e-04\n",
      "Epoch 17/100\n",
      "25/25 [==============================] - 0s 1ms/step - loss: 0.6826 - accuracy: 0.5225 - lr: 6.3096e-04\n",
      "Epoch 18/100\n",
      "25/25 [==============================] - 0s 2ms/step - loss: 0.6819 - accuracy: 0.5300 - lr: 7.0795e-04\n",
      "Epoch 19/100\n",
      "25/25 [==============================] - 0s 1ms/step - loss: 0.6816 - accuracy: 0.5312 - lr: 7.9433e-04\n",
      "Epoch 20/100\n",
      "25/25 [==============================] - 0s 1ms/step - loss: 0.6811 - accuracy: 0.5387 - lr: 8.9125e-04\n",
      "Epoch 21/100\n",
      "25/25 [==============================] - 0s 1ms/step - loss: 0.6806 - accuracy: 0.5400 - lr: 0.0010\n",
      "Epoch 22/100\n",
      "25/25 [==============================] - 0s 1ms/step - loss: 0.6801 - accuracy: 0.5412 - lr: 0.0011\n",
      "Epoch 23/100\n",
      "25/25 [==============================] - 0s 1ms/step - loss: 0.6796 - accuracy: 0.5400 - lr: 0.0013\n",
      "Epoch 24/100\n",
      "25/25 [==============================] - 0s 2ms/step - loss: 0.6790 - accuracy: 0.5425 - lr: 0.0014\n",
      "Epoch 25/100\n",
      "25/25 [==============================] - 0s 2ms/step - loss: 0.6784 - accuracy: 0.5450 - lr: 0.0016\n",
      "Epoch 26/100\n",
      "25/25 [==============================] - 0s 2ms/step - loss: 0.6778 - accuracy: 0.5387 - lr: 0.0018\n",
      "Epoch 27/100\n",
      "25/25 [==============================] - 0s 2ms/step - loss: 0.6770 - accuracy: 0.5425 - lr: 0.0020\n",
      "Epoch 28/100\n",
      "25/25 [==============================] - 0s 2ms/step - loss: 0.6760 - accuracy: 0.5537 - lr: 0.0022\n",
      "Epoch 29/100\n",
      "25/25 [==============================] - 0s 1ms/step - loss: 0.6754 - accuracy: 0.5512 - lr: 0.0025\n",
      "Epoch 30/100\n",
      "25/25 [==============================] - 0s 1ms/step - loss: 0.6739 - accuracy: 0.5575 - lr: 0.0028\n",
      "Epoch 31/100\n",
      "25/25 [==============================] - 0s 1ms/step - loss: 0.6726 - accuracy: 0.5500 - lr: 0.0032\n",
      "Epoch 32/100\n",
      "25/25 [==============================] - 0s 2ms/step - loss: 0.6711 - accuracy: 0.5512 - lr: 0.0035\n",
      "Epoch 33/100\n",
      "25/25 [==============================] - 0s 1ms/step - loss: 0.6688 - accuracy: 0.5562 - lr: 0.0040\n",
      "Epoch 34/100\n",
      "25/25 [==============================] - 0s 2ms/step - loss: 0.6672 - accuracy: 0.5612 - lr: 0.0045\n",
      "Epoch 35/100\n",
      "25/25 [==============================] - 0s 1ms/step - loss: 0.6660 - accuracy: 0.5888 - lr: 0.0050\n",
      "Epoch 36/100\n",
      "25/25 [==============================] - 0s 1ms/step - loss: 0.6625 - accuracy: 0.5625 - lr: 0.0056\n",
      "Epoch 37/100\n",
      "25/25 [==============================] - 0s 2ms/step - loss: 0.6560 - accuracy: 0.5813 - lr: 0.0063\n",
      "Epoch 38/100\n",
      "25/25 [==============================] - 0s 2ms/step - loss: 0.6521 - accuracy: 0.6025 - lr: 0.0071\n",
      "Epoch 39/100\n",
      "25/25 [==============================] - 0s 1ms/step - loss: 0.6415 - accuracy: 0.7088 - lr: 0.0079\n",
      "Epoch 40/100\n",
      "25/25 [==============================] - 0s 1ms/step - loss: 0.6210 - accuracy: 0.7113 - lr: 0.0089\n",
      "Epoch 41/100\n",
      "25/25 [==============================] - 0s 1ms/step - loss: 0.5904 - accuracy: 0.7487 - lr: 0.0100\n",
      "Epoch 42/100\n",
      "25/25 [==============================] - 0s 1ms/step - loss: 0.5688 - accuracy: 0.7312 - lr: 0.0112\n",
      "Epoch 43/100\n",
      "25/25 [==============================] - 0s 1ms/step - loss: 0.5346 - accuracy: 0.7563 - lr: 0.0126\n",
      "Epoch 44/100\n",
      "25/25 [==============================] - 0s 2ms/step - loss: 0.4533 - accuracy: 0.8150 - lr: 0.0141\n",
      "Epoch 45/100\n",
      "25/25 [==============================] - 0s 2ms/step - loss: 0.3455 - accuracy: 0.9112 - lr: 0.0158\n",
      "Epoch 46/100\n",
      "25/25 [==============================] - 0s 2ms/step - loss: 0.2570 - accuracy: 0.9463 - lr: 0.0178\n",
      "Epoch 47/100\n",
      "25/25 [==============================] - 0s 3ms/step - loss: 0.1968 - accuracy: 0.9575 - lr: 0.0200\n",
      "Epoch 48/100\n",
      "25/25 [==============================] - 0s 2ms/step - loss: 0.1336 - accuracy: 0.9700 - lr: 0.0224\n",
      "Epoch 49/100\n",
      "25/25 [==============================] - 0s 2ms/step - loss: 0.1310 - accuracy: 0.9613 - lr: 0.0251\n",
      "Epoch 50/100\n",
      "25/25 [==============================] - 0s 2ms/step - loss: 0.1002 - accuracy: 0.9700 - lr: 0.0282\n",
      "Epoch 51/100\n",
      "25/25 [==============================] - 0s 1ms/step - loss: 0.1166 - accuracy: 0.9638 - lr: 0.0316\n",
      "Epoch 52/100\n",
      "25/25 [==============================] - 0s 2ms/step - loss: 0.1368 - accuracy: 0.9513 - lr: 0.0355\n",
      "Epoch 53/100\n",
      "25/25 [==============================] - 0s 1ms/step - loss: 0.0879 - accuracy: 0.9787 - lr: 0.0398\n",
      "Epoch 54/100\n",
      "25/25 [==============================] - 0s 2ms/step - loss: 0.1187 - accuracy: 0.9588 - lr: 0.0447\n",
      "Epoch 55/100\n",
      "25/25 [==============================] - 0s 1ms/step - loss: 0.0733 - accuracy: 0.9712 - lr: 0.0501\n",
      "Epoch 56/100\n",
      "25/25 [==============================] - 0s 2ms/step - loss: 0.1132 - accuracy: 0.9550 - lr: 0.0562\n",
      "Epoch 57/100\n",
      "25/25 [==============================] - 0s 2ms/step - loss: 0.1057 - accuracy: 0.9600 - lr: 0.0631\n",
      "Epoch 58/100\n",
      "25/25 [==============================] - 0s 1ms/step - loss: 0.0658 - accuracy: 0.9750 - lr: 0.0708\n",
      "Epoch 59/100\n",
      "25/25 [==============================] - 0s 1ms/step - loss: 0.1624 - accuracy: 0.9325 - lr: 0.0794\n",
      "Epoch 60/100\n",
      "25/25 [==============================] - 0s 1ms/step - loss: 0.0714 - accuracy: 0.9737 - lr: 0.0891\n",
      "Epoch 61/100\n",
      "25/25 [==============================] - 0s 1ms/step - loss: 0.0772 - accuracy: 0.9688 - lr: 0.1000\n",
      "Epoch 62/100\n",
      "25/25 [==============================] - 0s 1ms/step - loss: 0.1030 - accuracy: 0.9538 - lr: 0.1122\n",
      "Epoch 63/100\n",
      "25/25 [==============================] - 0s 1ms/step - loss: 0.2711 - accuracy: 0.9125 - lr: 0.1259\n",
      "Epoch 64/100\n",
      "25/25 [==============================] - 0s 721us/step - loss: 0.4612 - accuracy: 0.7650 - lr: 0.1413\n",
      "Epoch 65/100\n",
      "25/25 [==============================] - 0s 1ms/step - loss: 0.2739 - accuracy: 0.8875 - lr: 0.1585\n",
      "Epoch 66/100\n",
      "25/25 [==============================] - 0s 1ms/step - loss: 0.2332 - accuracy: 0.9062 - lr: 0.1778\n",
      "Epoch 67/100\n",
      "25/25 [==============================] - 0s 1ms/step - loss: 0.4119 - accuracy: 0.8250 - lr: 0.1995\n",
      "Epoch 68/100\n",
      "25/25 [==============================] - 0s 952us/step - loss: 0.1475 - accuracy: 0.9538 - lr: 0.2239\n",
      "Epoch 69/100\n",
      "25/25 [==============================] - 0s 1ms/step - loss: 0.1617 - accuracy: 0.9500 - lr: 0.2512\n",
      "Epoch 70/100\n",
      "25/25 [==============================] - 0s 784us/step - loss: 0.2865 - accuracy: 0.8913 - lr: 0.2818\n",
      "Epoch 71/100\n",
      "25/25 [==============================] - 0s 1ms/step - loss: 0.1606 - accuracy: 0.9300 - lr: 0.3162\n",
      "Epoch 72/100\n",
      "25/25 [==============================] - 0s 1ms/step - loss: 0.4535 - accuracy: 0.8175 - lr: 0.3548\n",
      "Epoch 73/100\n",
      "25/25 [==============================] - 0s 1ms/step - loss: 0.6001 - accuracy: 0.7750 - lr: 0.3981\n",
      "Epoch 74/100\n",
      "25/25 [==============================] - 0s 2ms/step - loss: 0.4965 - accuracy: 0.7400 - lr: 0.4467\n",
      "Epoch 75/100\n",
      "25/25 [==============================] - 0s 1ms/step - loss: 0.5853 - accuracy: 0.7625 - lr: 0.5012\n",
      "Epoch 76/100\n",
      "25/25 [==============================] - 0s 1ms/step - loss: 0.5818 - accuracy: 0.6513 - lr: 0.5623\n",
      "Epoch 77/100\n",
      "25/25 [==============================] - 0s 1ms/step - loss: 0.5546 - accuracy: 0.6300 - lr: 0.6310\n",
      "Epoch 78/100\n",
      "25/25 [==============================] - 0s 1ms/step - loss: 0.5274 - accuracy: 0.6438 - lr: 0.7079\n",
      "Epoch 79/100\n",
      "25/25 [==============================] - 0s 1ms/step - loss: 0.5123 - accuracy: 0.7000 - lr: 0.7943\n",
      "Epoch 80/100\n",
      "25/25 [==============================] - 0s 1ms/step - loss: 0.5444 - accuracy: 0.7212 - lr: 0.8913\n",
      "Epoch 81/100\n",
      "25/25 [==============================] - 0s 1ms/step - loss: 0.6781 - accuracy: 0.6488 - lr: 1.0000\n",
      "Epoch 82/100\n",
      "25/25 [==============================] - 0s 1ms/step - loss: 0.7154 - accuracy: 0.5550 - lr: 1.1220\n",
      "Epoch 83/100\n",
      "25/25 [==============================] - 0s 1ms/step - loss: 0.7221 - accuracy: 0.4850 - lr: 1.2589\n",
      "Epoch 84/100\n",
      "25/25 [==============================] - 0s 1ms/step - loss: 0.7076 - accuracy: 0.5088 - lr: 1.4125\n",
      "Epoch 85/100\n",
      "25/25 [==============================] - 0s 1ms/step - loss: 0.7271 - accuracy: 0.5038 - lr: 1.5849\n",
      "Epoch 86/100\n",
      "25/25 [==============================] - 0s 1ms/step - loss: 0.7676 - accuracy: 0.5038 - lr: 1.7783\n",
      "Epoch 87/100\n",
      "25/25 [==============================] - 0s 1ms/step - loss: 0.7678 - accuracy: 0.5013 - lr: 1.9953\n",
      "Epoch 88/100\n",
      "25/25 [==============================] - 0s 1ms/step - loss: 0.7586 - accuracy: 0.5163 - lr: 2.2387\n",
      "Epoch 89/100\n",
      "25/25 [==============================] - 0s 1ms/step - loss: 0.7636 - accuracy: 0.5263 - lr: 2.5119\n",
      "Epoch 90/100\n",
      "25/25 [==============================] - 0s 655us/step - loss: 0.7855 - accuracy: 0.4938 - lr: 2.8184\n",
      "Epoch 91/100\n",
      "25/25 [==============================] - 0s 1ms/step - loss: 0.8027 - accuracy: 0.5138 - lr: 3.1623\n",
      "Epoch 92/100\n",
      "25/25 [==============================] - 0s 1ms/step - loss: 0.7384 - accuracy: 0.4963 - lr: 3.5481\n",
      "Epoch 93/100\n",
      "25/25 [==============================] - 0s 1ms/step - loss: 0.7400 - accuracy: 0.4963 - lr: 3.9811\n",
      "Epoch 94/100\n",
      "25/25 [==============================] - 0s 2ms/step - loss: 0.7581 - accuracy: 0.4938 - lr: 4.4668\n",
      "Epoch 95/100\n",
      "25/25 [==============================] - 0s 1ms/step - loss: 0.8190 - accuracy: 0.4863 - lr: 5.0119\n",
      "Epoch 96/100\n",
      "25/25 [==============================] - 0s 1ms/step - loss: 0.7814 - accuracy: 0.4613 - lr: 5.6234\n",
      "Epoch 97/100\n",
      "25/25 [==============================] - 0s 1ms/step - loss: 0.8057 - accuracy: 0.5013 - lr: 6.3096\n",
      "Epoch 98/100\n",
      "25/25 [==============================] - 0s 1ms/step - loss: 0.9629 - accuracy: 0.4963 - lr: 7.0795\n",
      "Epoch 99/100\n",
      "25/25 [==============================] - 0s 1ms/step - loss: 0.9575 - accuracy: 0.4913 - lr: 7.9433\n",
      "Epoch 100/100\n",
      "25/25 [==============================] - 0s 1ms/step - loss: 0.8582 - accuracy: 0.4613 - lr: 8.9125\n"
     ]
    }
   ],
   "source": [
    "# Set random seed\n",
    "tf.random.set_seed(42)\n",
    "\n",
    "# Create the model \n",
    "model_9 = tf.keras.Sequential([\n",
    "    tf.keras.layers.Dense(4,activation=\"relu\"),\n",
    "    tf.keras.layers.Dense(4,activation=\"relu\"),\n",
    "    tf.keras.layers.Dense(1,activation=\"sigmoid\")\n",
    "])\n",
    "\n",
    "# compile the model\n",
    "model_9.compile(loss=\"binary_crossentropy\",\n",
    "                optimizer=\"Adam\",\n",
    "                metrics=[\"accuracy\"])\n",
    "\n",
    "# create the learning rate callbacks\n",
    "lr_schedule = tf.keras.callbacks.LearningRateScheduler(lambda epoch: 1e-4 * 10**(epoch/20)) # its says 10^-4 x 10 ^(epoch/20)\n",
    "# # It is a conventional notation for 1 x 10^-4=0.0001\n",
    "\n",
    "# But it can be ambiguous, as it can also mean (1e)^-4 = 0.018315…\n",
    "# where e =~2.718281…\n",
    "\n",
    "# fit the model\n",
    "history= model_9.fit(x_train,y_train,epochs=100,callbacks=[lr_schedule]) # by the way you can also put more than 1 callbacks"
   ]
  },
  {
   "cell_type": "code",
   "execution_count": 53,
   "id": "c7be0280",
   "metadata": {},
   "outputs": [
    {
     "data": {
      "text/plain": [
       "<AxesSubplot:xlabel='epochs'>"
      ]
     },
     "execution_count": 53,
     "metadata": {},
     "output_type": "execute_result"
    },
    {
     "data": {
      "image/png": "[encoded data removed]",
      "text/plain": [
       "<Figure size 720x504 with 1 Axes>"
      ]
     },
     "metadata": {
      "needs_background": "light"
     },
     "output_type": "display_data"
    }
   ],
   "source": [
    "# Check out the history\n",
    "pd.DataFrame(history.history).plot(figsize=(10,7),xlabel=\"epochs\")"
   ]
  },
  {
   "cell_type": "code",
   "execution_count": 54,
   "id": "69a65b35",
   "metadata": {},
   "outputs": [
    {
     "data": {
      "text/plain": [
       "<tf.Tensor: shape=(100,), dtype=float64, numpy=\n",
       "array([1.00000000e-04, 1.12201845e-04, 1.25892541e-04, 1.41253754e-04,\n",
       "       1.58489319e-04, 1.77827941e-04, 1.99526231e-04, 2.23872114e-04,\n",
       "       2.51188643e-04, 2.81838293e-04, 3.16227766e-04, 3.54813389e-04,\n",
       "       3.98107171e-04, 4.46683592e-04, 5.01187234e-04, 5.62341325e-04,\n",
       "       6.30957344e-04, 7.07945784e-04, 7.94328235e-04, 8.91250938e-04,\n",
       "       1.00000000e-03, 1.12201845e-03, 1.25892541e-03, 1.41253754e-03,\n",
       "       1.58489319e-03, 1.77827941e-03, 1.99526231e-03, 2.23872114e-03,\n",
       "       2.51188643e-03, 2.81838293e-03, 3.16227766e-03, 3.54813389e-03,\n",
       "       3.98107171e-03, 4.46683592e-03, 5.01187234e-03, 5.62341325e-03,\n",
       "       6.30957344e-03, 7.07945784e-03, 7.94328235e-03, 8.91250938e-03,\n",
       "       1.00000000e-02, 1.12201845e-02, 1.25892541e-02, 1.41253754e-02,\n",
       "       1.58489319e-02, 1.77827941e-02, 1.99526231e-02, 2.23872114e-02,\n",
       "       2.51188643e-02, 2.81838293e-02, 3.16227766e-02, 3.54813389e-02,\n",
       "       3.98107171e-02, 4.46683592e-02, 5.01187234e-02, 5.62341325e-02,\n",
       "       6.30957344e-02, 7.07945784e-02, 7.94328235e-02, 8.91250938e-02,\n",
       "       1.00000000e-01, 1.12201845e-01, 1.25892541e-01, 1.41253754e-01,\n",
       "       1.58489319e-01, 1.77827941e-01, 1.99526231e-01, 2.23872114e-01,\n",
       "       2.51188643e-01, 2.81838293e-01, 3.16227766e-01, 3.54813389e-01,\n",
       "       3.98107171e-01, 4.46683592e-01, 5.01187234e-01, 5.62341325e-01,\n",
       "       6.30957344e-01, 7.07945784e-01, 7.94328235e-01, 8.91250938e-01,\n",
       "       1.00000000e+00, 1.12201845e+00, 1.25892541e+00, 1.41253754e+00,\n",
       "       1.58489319e+00, 1.77827941e+00, 1.99526231e+00, 2.23872114e+00,\n",
       "       2.51188643e+00, 2.81838293e+00, 3.16227766e+00, 3.54813389e+00,\n",
       "       3.98107171e+00, 4.46683592e+00, 5.01187234e+00, 5.62341325e+00,\n",
       "       6.30957344e+00, 7.07945784e+00, 7.94328235e+00, 8.91250938e+00])>"
      ]
     },
     "execution_count": 54,
     "metadata": {},
     "output_type": "execute_result"
    }
   ],
   "source": [
    "# Plot the learning rate vs the loss\n",
    "\n",
    "lrs = 1e-4 * (10 ** (tf.range(100)/20))\n",
    "lrs"
   ]
  },
  {
   "cell_type": "code",
   "execution_count": 55,
   "id": "2e29b734",
   "metadata": {},
   "outputs": [
    {
     "data": {
      "text/plain": [
       "100"
      ]
     },
     "execution_count": 55,
     "metadata": {},
     "output_type": "execute_result"
    }
   ],
   "source": [
    "len(lrs)"
   ]
  },
  {
   "cell_type": "code",
   "execution_count": 56,
   "id": "7df9977c",
   "metadata": {},
   "outputs": [
    {
     "data": {
      "image/png": "[encoded data removed]",
      "text/plain": [
       "<Figure size 720x504 with 1 Axes>"
      ]
     },
     "metadata": {
      "needs_background": "light"
     },
     "output_type": "display_data"
    }
   ],
   "source": [
    "# PLot the learning rate vs the loss\n",
    "lrs = 1e-4 * (10 ** (tf.range(100)/20))\n",
    "plt.figure(figsize=(10, 7))\n",
    "plt.semilogx(lrs,history.history[\"loss\"]) \n",
    "# semilogx( X , Y ) plots x- and y-coordinates using a base-10 logarithmic scale on the x-axis and a linear scale on the y-axis\n",
    "plt.xlabel(\"Learning Rate\")\n",
    "plt.ylabel(\"Loss\")\n",
    "plt.title(\"Learning rate vs Loss\")\n",
    "plt.show()\n",
    "\n",
    "\n",
    "\n",
    "\n",
    "# ideal learning rate will be at somepoint near it is most lower"
   ]
  },
  {
   "cell_type": "code",
   "execution_count": 57,
   "id": "fbb361a9",
   "metadata": {},
   "outputs": [
    {
     "data": {
      "text/plain": [
       "(1, 0.1, 0.01, 0.9992864533167718)"
      ]
     },
     "execution_count": 57,
     "metadata": {},
     "output_type": "execute_result"
    }
   ],
   "source": [
    "# Example of other typical learning rate values:\n",
    "10**0,10**-1,10**-2,10**-3.1e-4"
   ]
  },
  {
   "cell_type": "code",
   "execution_count": 58,
   "id": "8f857f28",
   "metadata": {},
   "outputs": [
    {
     "data": {
      "text/plain": [
       "0.01"
      ]
     },
     "execution_count": 58,
     "metadata": {},
     "output_type": "execute_result"
    }
   ],
   "source": [
    "# see in the graph the graph comes lowest at 10**-2 -2 see b/w 10^-2 and 10^-1 at point 2 its lowest so it will be 0.02\n",
    "10**-2"
   ]
  },
  {
   "cell_type": "code",
   "execution_count": 59,
   "id": "89796727",
   "metadata": {},
   "outputs": [
    {
     "name": "stdout",
     "output_type": "stream",
     "text": [
      "Epoch 1/25\n"
     ]
    },
    {
     "name": "stderr",
     "output_type": "stream",
     "text": [
      "C:\\Users\\Amit\\Desktop\\sample\\anaconda3\\lib\\site-packages\\keras\\optimizers\\optimizer_v2\\adam.py:110: UserWarning: The `lr` argument is deprecated, use `learning_rate` instead.\n",
      "  super(Adam, self).__init__(name, **kwargs)\n"
     ]
    },
    {
     "name": "stdout",
     "output_type": "stream",
     "text": [
      "25/25 [==============================] - 0s 1ms/step - loss: 0.6925 - accuracy: 0.5188\n",
      "Epoch 2/25\n",
      "25/25 [==============================] - 0s 1ms/step - loss: 0.6852 - accuracy: 0.5300\n",
      "Epoch 3/25\n",
      "25/25 [==============================] - 0s 1ms/step - loss: 0.6787 - accuracy: 0.6025\n",
      "Epoch 4/25\n",
      "25/25 [==============================] - 0s 1ms/step - loss: 0.6662 - accuracy: 0.6538\n",
      "Epoch 5/25\n",
      "25/25 [==============================] - 0s 2ms/step - loss: 0.6448 - accuracy: 0.6950\n",
      "Epoch 6/25\n",
      "25/25 [==============================] - 0s 1ms/step - loss: 0.6141 - accuracy: 0.7337\n",
      "Epoch 7/25\n",
      "25/25 [==============================] - 0s 1ms/step - loss: 0.5652 - accuracy: 0.8487\n",
      "Epoch 8/25\n",
      "25/25 [==============================] - 0s 1ms/step - loss: 0.5136 - accuracy: 0.8400\n",
      "Epoch 9/25\n",
      "25/25 [==============================] - 0s 1ms/step - loss: 0.4450 - accuracy: 0.9450\n",
      "Epoch 10/25\n",
      "25/25 [==============================] - 0s 1ms/step - loss: 0.3721 - accuracy: 0.9712\n",
      "Epoch 11/25\n",
      "25/25 [==============================] - 0s 1ms/step - loss: 0.3135 - accuracy: 0.9762\n",
      "Epoch 12/25\n",
      "25/25 [==============================] - 0s 1ms/step - loss: 0.2615 - accuracy: 0.9850\n",
      "Epoch 13/25\n",
      "25/25 [==============================] - 0s 1ms/step - loss: 0.2167 - accuracy: 0.9850\n",
      "Epoch 14/25\n",
      "25/25 [==============================] - 0s 1ms/step - loss: 0.1876 - accuracy: 0.9900\n",
      "Epoch 15/25\n",
      "25/25 [==============================] - 0s 657us/step - loss: 0.1526 - accuracy: 0.9912\n",
      "Epoch 16/25\n",
      "25/25 [==============================] - 0s 1ms/step - loss: 0.1362 - accuracy: 0.9912\n",
      "Epoch 17/25\n",
      "25/25 [==============================] - 0s 1ms/step - loss: 0.1141 - accuracy: 0.9937\n",
      "Epoch 18/25\n",
      "25/25 [==============================] - 0s 1ms/step - loss: 0.1052 - accuracy: 0.9925\n",
      "Epoch 19/25\n",
      "25/25 [==============================] - 0s 2ms/step - loss: 0.0915 - accuracy: 0.9937\n",
      "Epoch 20/25\n",
      "25/25 [==============================] - 0s 1ms/step - loss: 0.0830 - accuracy: 0.9962\n",
      "Epoch 21/25\n",
      "25/25 [==============================] - 0s 1ms/step - loss: 0.0717 - accuracy: 0.9962\n",
      "Epoch 22/25\n",
      "25/25 [==============================] - 0s 1ms/step - loss: 0.0680 - accuracy: 0.9950\n",
      "Epoch 23/25\n",
      "25/25 [==============================] - 0s 1ms/step - loss: 0.0595 - accuracy: 0.9987\n",
      "Epoch 24/25\n",
      "25/25 [==============================] - 0s 1ms/step - loss: 0.0555 - accuracy: 0.9950\n",
      "Epoch 25/25\n",
      "25/25 [==============================] - 0s 2ms/step - loss: 0.0517 - accuracy: 0.9950\n"
     ]
    }
   ],
   "source": [
    "# Lets train the model with ideal learning rate\n",
    "model_10 = tf.keras.Sequential([\n",
    "    tf.keras.layers.Dense(4,activation=\"relu\"),\n",
    "    tf.keras.layers.Dense(4,activation=\"relu\"),\n",
    "    tf.keras.layers.Dense(1,activation=\"sigmoid\")\n",
    "])\n",
    "\n",
    "model_10.compile(loss=\"binary_crossentropy\",\n",
    "                optimizer=tf.keras.optimizers.Adam(lr=0.01),\n",
    "                metrics=[\"accuracy\"])\n",
    "\n",
    "\n",
    "# create the learning rate callbacks\n",
    "# lr_schedule = tf.keras.callbacks.LearningRateScheduler(lambda epoch:1e-4 * 10 **(epoch/20))\n",
    "\n",
    "history = model_10.fit(x_train, y_train, epochs=25)"
   ]
  },
  {
   "cell_type": "code",
   "execution_count": 60,
   "id": "28710651",
   "metadata": {},
   "outputs": [
    {
     "name": "stdout",
     "output_type": "stream",
     "text": [
      "7/7 [==============================] - 0s 0s/step - loss: 0.0579 - accuracy: 0.9850\n"
     ]
    },
    {
     "data": {
      "text/plain": [
       "[0.05786607787013054, 0.9850000143051147]"
      ]
     },
     "execution_count": 60,
     "metadata": {},
     "output_type": "execute_result"
    }
   ],
   "source": [
    "model_10.evaluate(x_test,y_test)"
   ]
  },
  {
   "cell_type": "code",
   "execution_count": 61,
   "id": "79d933af",
   "metadata": {},
   "outputs": [
    {
     "data": {
      "image/png": "[encoded data removed]",
      "text/plain": [
       "<Figure size 432x288 with 1 Axes>"
      ]
     },
     "metadata": {
      "needs_background": "light"
     },
     "output_type": "display_data"
    }
   ],
   "source": [
    "pd.DataFrame(history.history).plot();\n"
   ]
  },
  {
   "cell_type": "code",
   "execution_count": 62,
   "id": "58ce8533",
   "metadata": {},
   "outputs": [
    {
     "name": "stdout",
     "output_type": "stream",
     "text": [
      "7/7 [==============================] - 0s 3ms/step - loss: 0.1247 - accuracy: 1.0000\n",
      "7/7 [==============================] - 0s 3ms/step - loss: 0.6935 - accuracy: 0.4950\n",
      "7/7 [==============================] - 0s 1ms/step - loss: 0.0579 - accuracy: 0.9850\n"
     ]
    },
    {
     "data": {
      "text/plain": [
       "([0.12468849867582321, 1.0],\n",
       " [0.6934590339660645, 0.4950000047683716],\n",
       " [0.05786607787013054, 0.9850000143051147])"
      ]
     },
     "execution_count": 62,
     "metadata": {},
     "output_type": "execute_result"
    }
   ],
   "source": [
    "model_8.evaluate(x_test,y_test),model_9.evaluate(x_test,y_test),model_10.evaluate(x_test,y_test)"
   ]
  },
  {
   "cell_type": "code",
   "execution_count": 63,
   "id": "0ec56357",
   "metadata": {},
   "outputs": [
    {
     "name": "stdout",
     "output_type": "stream",
     "text": [
      "313/313 [==============================] - 0s 554us/step\n",
      "doing binary classifcation...\n",
      "313/313 [==============================] - 0s 544us/step\n",
      "doing binary classifcation...\n"
     ]
    },
    {
     "data": {
      "image/png": "[encoded data removed]",
      "text/plain": [
       "<Figure size 864x432 with 2 Axes>"
      ]
     },
     "metadata": {
      "needs_background": "light"
     },
     "output_type": "display_data"
    }
   ],
   "source": [
    "# Plot the decision boundaries for the training and test sets\n",
    "plt.figure(figsize=(12, 6))\n",
    "plt.subplot(1, 2, 1)\n",
    "plt.title(\"Train\")\n",
    "plot_decision_boundary(model_10, x=x_train, y=y_train)\n",
    "plt.subplot(1, 2, 2)\n",
    "plt.title(\"Test\")\n",
    "plot_decision_boundary(model_10, x=x_test, y=y_test)\n",
    "plt.show()"
   ]
  },
  {
   "cell_type": "markdown",
   "id": "b8d9ca9e",
   "metadata": {},
   "source": [
    "### More classification evaluation methods\n",
    "\n",
    "Alongside visualizing our models results as much as possible, there are a handful of other classification evaluation methods & metrics you should be familiar with:\n",
    "    \n",
    "    * Accuracy\n",
    "    * Precision\n",
    "    * Recall\n",
    "    * F1-score\n",
    "    * Confusion matrix\n",
    "    * Classification report (from scikit-learn) - https://scikitlearn.org/stable/modules/generated/sklearn.metrics.classification_report.html"
   ]
  },
  {
   "cell_type": "code",
   "execution_count": 64,
   "id": "87ec7404",
   "metadata": {},
   "outputs": [
    {
     "name": "stdout",
     "output_type": "stream",
     "text": [
      "7/7 [==============================] - 0s 0s/step - loss: 0.0579 - accuracy: 0.9850\n",
      "Model loss on the test set: 0.05786607787013054\n",
      "Model accuracy on the test set:98.50%\n"
     ]
    }
   ],
   "source": [
    "# Check the accuracy of our model\n",
    "loss, accuracy = model_10.evaluate(x_test,y_test)\n",
    "print(f\"Model loss on the test set: {loss}\")\n",
    "print(f\"Model accuracy on the test set:{(accuracy*100):.2f}%\")"
   ]
  },
  {
   "cell_type": "markdown",
   "id": "506e9714",
   "metadata": {},
   "source": [
    "### How to make confusion matrix?"
   ]
  },
  {
   "cell_type": "code",
   "execution_count": 65,
   "id": "cf4211fe",
   "metadata": {},
   "outputs": [],
   "source": [
    "# # Create a confusion matrix\n",
    "# from sklearn.metrics import confusion_matrix\n",
    "\n",
    "# # Make predictions\n",
    "# y_preds = model_10.predict(x_test)\n",
    "# # confusion matrix\n",
    "# confusion_matrix(y_test,y_preds)\n",
    "\n",
    "# give this error\n",
    "# ValueError: Classification metrics can't handle a mix of binary and continuous targets"
   ]
  },
  {
   "cell_type": "markdown",
   "id": "4c11e5e9",
   "metadata": {},
   "source": [
    "As you can see Classification metrics can't handle a mix of binary and continuous targets\n",
    "so lets round it up"
   ]
  },
  {
   "cell_type": "code",
   "execution_count": 66,
   "id": "da2b82fa",
   "metadata": {},
   "outputs": [
    {
     "ename": "NameError",
     "evalue": "name 'y_preds' is not defined",
     "output_type": "error",
     "traceback": [
      "\u001b[1;31m---------------------------------------------------------------------------\u001b[0m",
      "\u001b[1;31mNameError\u001b[0m                                 Traceback (most recent call last)",
      "Input \u001b[1;32mIn [66]\u001b[0m, in \u001b[0;36m<cell line: 1>\u001b[1;34m()\u001b[0m\n\u001b[1;32m----> 1\u001b[0m y_test[:\u001b[38;5;241m5\u001b[39m],\u001b[43my_preds\u001b[49m[:\u001b[38;5;241m5\u001b[39m]\n",
      "\u001b[1;31mNameError\u001b[0m: name 'y_preds' is not defined"
     ]
    }
   ],
   "source": [
    "y_test[:5],y_preds[:5]"
   ]
  },
  {
   "cell_type": "code",
   "execution_count": null,
   "id": "f975ce30",
   "metadata": {},
   "outputs": [],
   "source": [
    "# Create a confusion matrix\n",
    "from sklearn.metrics import confusion_matrix\n",
    "\n",
    "# Make predictions\n",
    "y_preds = tf.math.round(model_10.predict(x_test))\n",
    "\n",
    "# confusion matrix\n",
    "confusion_matrix(y_test,y_preds)"
   ]
  },
  {
   "cell_type": "markdown",
   "id": "ef7f3ff8",
   "metadata": {},
   "source": [
    "### how about we pretify our confusion matrix?\n",
    "\n",
    "Here created the function so we can check for every model"
   ]
  },
  {
   "cell_type": "code",
   "execution_count": null,
   "id": "1c307cce",
   "metadata": {},
   "outputs": [],
   "source": [
    "# Note : the confusion matrix code we're about to write is remix of scikit-learn's plot_confusion_matrix #92\n",
    "\n",
    "import itertools\n",
    "\n",
    "def cm_figure(y_true,y_preds):\n",
    "    figsize = (10,10)\n",
    "\n",
    "    # Create the confusion matrix\n",
    "    cm = confusion_matrix(y_test,tf.math.round(y_preds))\n",
    "    cm_norm = cm.astype(\"float\") / cm.sum(axis=1)[:,np.newaxis] # normalize our confusion matrix\n",
    "    n_classes = cm.shape[0]\n",
    "    \n",
    "\n",
    "    # Lets prettify it\n",
    "    fig, ax = plt.subplots(figsize=figsize)\n",
    "    # Create a matrix plot\n",
    "    cax = ax.matshow(cm , cmap=plt.cm.Blues) # here cmp cm is colour matrix\n",
    "    fig.colorbar(cax)\n",
    "\n",
    "    # Create classes\n",
    "    classes = False\n",
    "\n",
    "    if classes:\n",
    "        labels = classes\n",
    "    else:\n",
    "        labels = np.arange(cm.shape[0])\n",
    "\n",
    "    # Label the axes\n",
    "    ax.set(title = \"Confusion Matrix\",\n",
    "           xlabel= \"Predicted Label\",\n",
    "           ylabel= \"True Label\",\n",
    "           xticks= np.arange(n_classes),\n",
    "           yticks= np.arange(n_classes),\n",
    "           xticklabels=labels,\n",
    "           yticklabels=labels)\n",
    "\n",
    "    # Set the x-axis labels to bottom\n",
    "    ax.xaxis.set_label_position(\"bottom\")\n",
    "    ax.xaxis.tick_bottom()\n",
    "\n",
    "    # Adjust the label size\n",
    "    ax.yaxis.label.set_size(20)\n",
    "    ax.xaxis.label.set_size(20)\n",
    "    ax.title.set_size(20)\n",
    "\n",
    "    # Set the threshold for different color\n",
    "    threshold = (cm.max() + cm.min()) / 2.\n",
    "\n",
    "    # PLot the text on each cell\n",
    "    for i, j in itertools.product(range(cm.shape[0]),range(cm.shape[1])):\n",
    "        plt.text(j,i,f\"{cm[i, j]} ({cm_norm[i, j]*100:.1f}%)\",\n",
    "                horizontalalignment=\"center\",\n",
    "                color=\"white\" if cm[i, j]> threshold else \"black\",\n",
    "                size=15)\n"
   ]
  },
  {
   "cell_type": "code",
   "execution_count": null,
   "id": "9a3db58d",
   "metadata": {},
   "outputs": [],
   "source": [
    "cm_figure(y_test,y_preds)"
   ]
  },
  {
   "cell_type": "markdown",
   "id": "fc09b3f6",
   "metadata": {},
   "source": [
    "# Working with a larger example (multiclass classification)\n",
    "\n",
    "\n",
    "When you have more than two classes as an option, it's known as multi-class classification.\n",
    "\n",
    "* This means if you have 3 different classes, it's multi-class classification.\n",
    "* It also means if you have 100 different classes,it's multi-class classification."
   ]
  },
  {
   "cell_type": "markdown",
   "id": "802392e3",
   "metadata": {},
   "source": [
    "### Data-set is-:\n",
    "\n",
    "To practise multi-class classification, we're going to build a nueral network to classify image of different items of clothing\n",
    "\n",
    "we are taking tensorflow built-in dataset which is fashion clothing dataset which classify image on basis of clothes, uses 10 classes"
   ]
  },
  {
   "cell_type": "code",
   "execution_count": 68,
   "id": "66791164",
   "metadata": {},
   "outputs": [],
   "source": [
    "# lets make different folder for this "
   ]
  },
  {
   "cell_type": "code",
   "execution_count": null,
   "id": "82014d3d",
   "metadata": {},
   "outputs": [],
   "source": []
  }
 ],
 "metadata": {
  "kernelspec": {
   "display_name": "Python 3 (ipykernel)",
   "language": "python",
   "name": "python3"
  },
  "language_info": {
   "codemirror_mode": {
    "name": "ipython",
    "version": 3
   },
   "file_extension": ".py",
   "mimetype": "text/x-python",
   "name": "python",
   "nbconvert_exporter": "python",
   "pygments_lexer": "ipython3",
   "version": "3.9.12"
  }
 },
 "nbformat": 4,
 "nbformat_minor": 5
}
